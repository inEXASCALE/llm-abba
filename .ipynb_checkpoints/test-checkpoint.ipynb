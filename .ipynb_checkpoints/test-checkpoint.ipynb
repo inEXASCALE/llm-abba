{
 "cells": [
  {
   "cell_type": "code",
   "execution_count": null,
   "id": "afa24f5c-6f11-414d-84e3-565cb0785242",
   "metadata": {},
   "outputs": [],
   "source": [
    "from fABBA import loadData\n",
    "from fABBA import JABBA"
   ]
  },
  {
   "cell_type": "code",
   "execution_count": null,
   "id": "2d504c0b-a1c8-4e1a-b951-860929f73e1c",
   "metadata": {},
   "outputs": [],
   "source": [
    "from xabba import XABBA\n",
    "import numpy as np\n",
    "import matplotlib.pyplot as plt"
   ]
  },
  {
   "cell_type": "code",
   "execution_count": null,
   "id": "2bd90675-82cd-4e15-b08b-f3b5dbe29bfb",
   "metadata": {},
   "outputs": [],
   "source": [
    "from xabba import compress\n",
    "from xabba import inv_compress"
   ]
  },
  {
   "cell_type": "markdown",
   "id": "d2fc3915-1964-4625-aa54-175b910e8389",
   "metadata": {},
   "source": [
    "### Single time series"
   ]
  },
  {
   "cell_type": "code",
   "execution_count": null,
   "id": "152be721-47ca-4f09-a4e7-4d2d4bdd9614",
   "metadata": {},
   "outputs": [],
   "source": [
    "ts = np.array([np.sin(0.05*i) for i in range(1000)])  # original time series (Trigonometric sine series of 1000 points)"
   ]
  },
  {
   "cell_type": "code",
   "execution_count": null,
   "id": "dbd7dbc5-660e-4532-8276-99206c6c0fb7",
   "metadata": {},
   "outputs": [],
   "source": [
    "pieces = compress(ts, 0.5)\n",
    "inv_ts = inv_compress(pieces, ts[0])"
   ]
  },
  {
   "cell_type": "code",
   "execution_count": null,
   "id": "b6d925bd-daaf-4580-9431-275b9c2425ce",
   "metadata": {},
   "outputs": [],
   "source": [
    "plt.plot(ts, label='time series', c='purple')\n",
    "plt.plot(inv_ts, label='inverse_ts', c='tomato')\n",
    "plt.legend()"
   ]
  },
  {
   "cell_type": "code",
   "execution_count": null,
   "id": "2cf64556",
   "metadata": {},
   "outputs": [],
   "source": [
    "ab = JABBA(tol=0.2, alpha=0.5, verbose=1)\n",
    "string = ab.fit_transform(ts, n_jobs=1)\n",
    "''.join(string[0])"
   ]
  },
  {
   "cell_type": "code",
   "execution_count": null,
   "id": "75735272",
   "metadata": {},
   "outputs": [],
   "source": [
    "inv_ts1 = ab.inverse_transform(string)\n",
    "string[0][1] = 'b'\n",
    "inv_ts2 = ab.inverse_transform(string)"
   ]
  },
  {
   "cell_type": "code",
   "execution_count": null,
   "id": "e1c24e6a",
   "metadata": {},
   "outputs": [],
   "source": [
    "plt.plot(ts, label='time series', c='purple', linewidth=3)\n",
    "plt.plot(inv_ts1, label='symbols recovery (correct symbols)', c='yellowgreen', linewidth=6, linestyle='--')\n",
    "plt.plot(inv_ts2, label='symbols recovery (perturbed symbols)', c='tomato', linewidth=4, linestyle='-')\n",
    "plt.legend(bbox_to_anchor=(1.15, -0.1), ncols=2)\n",
    "plt.tick_params(axis='both', which='both', labelsize=14)\n",
    "plt.savefig('save/ex1.pdf', bbox_inches='tight')\n",
    "plt.show()"
   ]
  },
  {
   "cell_type": "code",
   "execution_count": null,
   "id": "6d58cda4",
   "metadata": {},
   "outputs": [],
   "source": []
  },
  {
   "cell_type": "code",
   "execution_count": null,
   "id": "aa7f489a-58de-4083-9c9d-78a3c44469a4",
   "metadata": {},
   "outputs": [],
   "source": [
    "xab = XABBA(tol=0.2, alpha=0.5, verbose=1)\n",
    "string = xab.fit_transform(ts, n_jobs=1)\n",
    "''.join(string[0])"
   ]
  },
  {
   "cell_type": "code",
   "execution_count": null,
   "id": "24ae446f",
   "metadata": {},
   "outputs": [],
   "source": [
    "inv_ts1 = xab.inverse_transform(string)\n",
    "string[0][1] = 'B'\n",
    "inv_ts2 = xab.inverse_transform(string)"
   ]
  },
  {
   "cell_type": "code",
   "execution_count": null,
   "id": "650cb349-53ae-48fb-9344-20d899c7e8ea",
   "metadata": {},
   "outputs": [],
   "source": [
    "plt.plot(ts, label='time series', c='purple', linewidth=3)\n",
    "plt.plot(inv_ts1, label='symbols recovery (correct symbols)', c='yellowgreen', linewidth=6, linestyle='--')\n",
    "plt.plot(inv_ts2, label='symbols recovery (perturbed symbols)', c='tomato', linewidth=4, linestyle='-')\n",
    "plt.legend(bbox_to_anchor=(1.15, -0.1), ncols=2)\n",
    "plt.tick_params(axis='both', which='both', labelsize=14)\n",
    "plt.savefig('save/ex2.pdf', bbox_inches='tight')\n",
    "plt.show()"
   ]
  },
  {
   "cell_type": "markdown",
   "id": "fb9ec070-b27a-4a78-ad04-2fefac9ac05c",
   "metadata": {},
   "source": [
    "### Multiple time series"
   ]
  },
  {
   "cell_type": "code",
   "execution_count": null,
   "id": "53c31483-3be3-444a-b2e2-09b022140047",
   "metadata": {},
   "outputs": [],
   "source": [
    "train, test = loadData()"
   ]
  },
  {
   "cell_type": "markdown",
   "id": "7b040692-b1b6-495d-aee2-25908cd2f63f",
   "metadata": {},
   "source": [
    "#### fit data"
   ]
  },
  {
   "cell_type": "code",
   "execution_count": null,
   "id": "7620e2c7-d94a-4bf3-bb59-a4f48914a451",
   "metadata": {},
   "outputs": [],
   "source": [
    "xab = XABBA(tol=0.1, alpha=0.1, verbose=1)\n",
    "string = xab.fit_transform(train, n_jobs=40)\n",
    "\n",
    "inv_ts = xab.inverse_transform(string)"
   ]
  },
  {
   "cell_type": "code",
   "execution_count": null,
   "id": "6d324caf-cf88-4ad0-a902-f87fa4edd600",
   "metadata": {},
   "outputs": [],
   "source": [
    "plt.plot(train[9], label='ts')\n",
    "plt.plot(inv_ts[9], label='inverse_ts')\n",
    "plt.legend()"
   ]
  },
  {
   "cell_type": "markdown",
   "id": "ff6cb820-c948-40fe-97d2-ddc457e61c6f",
   "metadata": {},
   "source": [
    "#### for out of sample data"
   ]
  },
  {
   "cell_type": "code",
   "execution_count": null,
   "id": "9c1b9e41-65a3-4f5a-850f-014ada63bf83",
   "metadata": {},
   "outputs": [],
   "source": [
    "string, inits = xab.transform(test, n_jobs=40)\n",
    "inv_ts = xab.inverse_transform(string)"
   ]
  },
  {
   "cell_type": "code",
   "execution_count": null,
   "id": "5bafe3bc-d4af-4145-bc3f-e0a1b9f11d41",
   "metadata": {},
   "outputs": [],
   "source": [
    "plt.plot(test[9], label='ts')\n",
    "plt.plot(inv_ts[9], label='inverse_ts')\n",
    "plt.legend()"
   ]
  },
  {
   "cell_type": "code",
   "execution_count": null,
   "id": "b09545bf-f94b-48c9-bfc6-bc38c557de5a",
   "metadata": {},
   "outputs": [],
   "source": []
  },
  {
   "cell_type": "code",
   "execution_count": null,
   "id": "782bd625-17c0-4d80-9525-49409072a259",
   "metadata": {},
   "outputs": [],
   "source": []
  }
 ],
 "metadata": {
  "kernelspec": {
   "display_name": "Python 3 (ipykernel)",
   "language": "python",
   "name": "python3"
  },
  "language_info": {
   "codemirror_mode": {
    "name": "ipython",
    "version": 3
   },
   "file_extension": ".py",
   "mimetype": "text/x-python",
   "name": "python",
   "nbconvert_exporter": "python",
   "pygments_lexer": "ipython3",
   "version": "3.11.5"
  }
 },
 "nbformat": 4,
 "nbformat_minor": 5
}
