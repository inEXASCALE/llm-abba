{
 "cells": [
  {
   "cell_type": "markdown",
   "metadata": {},
   "source": [
    "\n",
    "<!-- Links -->\n",
    "<center>\n",
    "  <a href=\"https://console.brev.dev\" style=\"color: #06b6d4;\">Console</a> •\n",
    "  <a href=\"https://brev.dev\" style=\"color: #06b6d4;\">Docs</a> •\n",
    "  <a href=\"/\" style=\"color: #06b6d4;\">Templates</a> •\n",
    "  <a href=\"https://discord.gg/NVDyv7TUgJ\" style=\"color: #06b6d4;\">Discord</a>\n",
    "</center>\n",
    "\n",
    "# Using ABBA to Classify, and Predict Time Series Via LLMs -> [The Ralated Article](https://arxiv.org/abs/2411.18506)🤙\n",
    "\n",
    "\n",
    "In this notebook and tutorial, we will fine-tune the [Mistral 7B](https://github.com/mistralai/mistral-src) model to classify and predict time series.\n",
    "\n",
    "**Watch an accompanying video walk-through (but for using your own data) [here](https://youtu.be/kmkcNVvEz-k?si=Ogt1wRFNqYI6zXfw&t=1)!** If you'd like to see that notebook instead, click [here](https://github.com/brevdev/notebooks/blob/main/mistral-finetune-own-data.ipynb).\n",
    "\n",
    "This tutorial will use [QLoRA](https://arxiv.org/abs/2305.14314), a fine-tuning method that combines quantization and LoRA. For more information about what those are and how they work, see [this post](https://brev.dev/blog/how-qlora-works).\n",
    "\n",
    "In this notebook, we will load the large model in 4bit using `bitsandbytes` (`Mistral-7B-v0.1`) and use LoRA to train using the PEFT library from Hugging Face 🤗.\n",
    "\n",
    "Note that if you ever have trouble importing something from Huggingface, you may need to run `huggingface-cli login` in a shell. To open a shell in Jupyter Lab, click on 'Launcher' (or the '+' if it's not there) next to the notebook tab at the top of the screen. Under \"Other\", click \"Terminal\" and then run the command.\n",
    "\n",
    "### Help us make this tutorial better! Please provide feedback on the [Discord channel](https://discord.gg/y9428NwTh3) or on [X](https://x.com/harperscarroll)."
   ]
  },
  {
   "cell_type": "code",
   "execution_count": null,
   "metadata": {},
   "outputs": [],
   "source": []
  },
  {
   "cell_type": "markdown",
   "metadata": {},
   "source": [
    "ABBA->LLM->ABBA\n"
   ]
  },
  {
   "cell_type": "markdown",
   "metadata": {},
   "source": [
    "<img src=\"figure1.png\" width=\"90%\">\n",
    "\n",
    "Figure1. The model framework of LLM-ABBA: Given an input time series, we first transform and compress the time series to a symbolic series via <span style=\"color: red;\">1</span>. These symbolic series will be tokenized by the LLM's tokenizer via <span style=\"color: red;\">2</span>. The designed instruction that contains these symbolic series also will be tokenized by the LLM's tokenizer. Additionally, by only fine-tuning the pretrained LLM, the QLoRA with inhibition mechanism is utilized both in <span style=\"color: red;\">3</span>. To implement the corresponding tasks, LLMs will first generate the symbolic series with Instruction via <span style=\"color: red;\">4</span> and <span style=\"color: red;\">5</span> uses ABBA to recoonstruct the numerical series according to the type of tasks. Thus, by inversing symbolic series back to numerical time series, <span style=\"color: red;\">6</span> utilizes ABBA to decompress the generated symbolic series."
   ]
  },
  {
   "cell_type": "code",
   "execution_count": null,
   "metadata": {},
   "outputs": [],
   "source": []
  },
  {
   "cell_type": "code",
   "execution_count": 1,
   "metadata": {},
   "outputs": [],
   "source": [
    "# # install required packages\n",
    "# !pip install qabba==0.1.4\n",
    "# !pip install -U bitsandbytes\n",
    "# !pip install -U fabba\n",
    "# !pip install -U transformers\n",
    "# !pip install -U peft\n",
    "# !pip install -U accelerate\n",
    "# !pip install -U trl\n",
    "# !pip install datasets==2.16.0"
   ]
  },
  {
   "cell_type": "code",
   "execution_count": null,
   "metadata": {},
   "outputs": [],
   "source": []
  },
  {
   "cell_type": "code",
   "execution_count": 2,
   "metadata": {},
   "outputs": [
    {
     "name": "stderr",
     "output_type": "stream",
     "text": [
      "2025-01-21 14:30:57.803807: I tensorflow/core/platform/cpu_feature_guard.cc:182] This TensorFlow binary is optimized to use available CPU instructions in performance-critical operations.\n",
      "To enable the following instructions: AVX2 FMA, in other operations, rebuild TensorFlow with the appropriate compiler flags.\n",
      "2025-01-21 14:31:24.308964: W tensorflow/compiler/tf2tensorrt/utils/py_utils.cc:38] TF-TRT Warning: Could not find TensorRT\n"
     ]
    }
   ],
   "source": [
    "# %%capture\n",
    "\n",
    "import os\n",
    "import argparse\n",
    "from pathlib import Path\n",
    "import matplotlib.pyplot as plt\n",
    "import pandas as pd\n",
    "import numpy as np\n",
    "import json\n",
    "from fABBA import JABBA\n",
    "from qabba import QABBA \n",
    "\n",
    "import os\n",
    "import pickle\n",
    "from sklearn import preprocessing\n",
    "from sklearn.metrics import matthews_corrcoef\n",
    "from sklearn.metrics import accuracy_score\n",
    "from src.preprocessing import encoders, vector_embed\n",
    "from sklearn.preprocessing import StandardScaler, MinMaxScaler\n",
    "import torch\n",
    "import math\n",
    "from datasets.dataset_dict import DatasetDict\n",
    "from datasets import Dataset\n",
    "from transformers import AutoModelForSequenceClassification, AutoModelForCausalLM, AutoTokenizer, BitsAndBytesConfig,HfArgumentParser,TrainingArguments,pipeline, logging\n",
    "from peft import get_peft_model, LoraConfig, TaskType\n",
    "from transformers import AutoTokenizer, DataCollatorWithPadding, DataCollatorForLanguageModeling\n",
    "from peft import LoraConfig, PeftModel, prepare_model_for_kbit_training, get_peft_model\n",
    "from trl import SFTTrainer\n",
    "import evaluate\n",
    "import numpy as np\n",
    "from sklearn.metrics import f1_score\n",
    "from sklearn.metrics import accuracy_score, precision_recall_fscore_support\n",
    "from sklearn import preprocessing\n",
    "from sklearn.model_selection import train_test_split\n",
    "\n",
    "\n",
    "from transformers import TrainingArguments, Trainer\n",
    "import tiktoken\n",
    "from tiktoken.load import load_tiktoken_bpe\n",
    "\n",
    "import warnings\n",
    "\n",
    "torch.cuda.empty_cache()"
   ]
  },
  {
   "cell_type": "markdown",
   "metadata": {},
   "source": [
    "## 1. Loading Time Series Data"
   ]
  },
  {
   "cell_type": "markdown",
   "metadata": {},
   "source": [
    "There are three main tasks in this tutorial: classification, regression and prediction.\n",
    "\n",
    "Classification: [UCR Time Series Archive](https://www.cs.ucr.edu/~eamonn/time_series_data_2018/), [EEG Eye\n",
    "State](https://github.com/aliseyfi75/COSCI-GAN),  [PTB-DB](https://physionet.org/content/ptbdb/1.0.0/), and [MIT-BIH](https://physionet.org/content/mitdb/1.0.0/).\n",
    "\n",
    "Regression: Monash Regression benchmarking archive [Time Series Extrinsic Regression (TSER)](http://tseregression.org/), which contains 19 time series datasets from 5 application domains, including Health Monitoring,\n",
    "Energy Monitoring, Environment Monitoring, Sentiment Analysis, and Forecasting.\n",
    "\n",
    "Forecasting: [ Electricity Transformer Temperature (ETT)](https://github.com/zhouhaoyi/ETDataset) (including 4 subsets: ETTh1, ETTh2, ETTm1, ETTm2).\n",
    "\n",
    "\n"
   ]
  },
  {
   "cell_type": "code",
   "execution_count": 3,
   "metadata": {},
   "outputs": [],
   "source": [
    "# task_tpye = \"classification\"  # classification, regression or forecasting\n",
    "# data_name = \"eeg-eye-state\"\n",
    "\n",
    "# task_tpye = \"regression\"  # classification, regression or forecasting\n",
    "# data_name = \"Covid3Month\"\n",
    "\n",
    "task_tpye = \"forecasting\"  # classification, regression or forecasting\n",
    "data_name = \"ETTh1\"\n",
    "\n",
    "seq_len_pre = 168  # 96 -> 96;;; 168 -> 24, 48, 96\n",
    "seq_len_post = 168  # 96 -> 96;;; 168 -> 24, 48, 96\n",
    "MAX_LENGTH_pre = seq_len_pre*7\n",
    "MAX_LENGTH_post = seq_len_post*7\n",
    "    \n",
    "model_name = 'mistralai/Mistral-7B-Instruct-v0.1'"
   ]
  },
  {
   "cell_type": "code",
   "execution_count": 4,
   "metadata": {},
   "outputs": [],
   "source": [
    "\n",
    "# Python program to convert a list to string\n",
    "def listToString(s):\n",
    "    # initialize an empty string\n",
    "    str1 = \"\"\n",
    "    # traverse in the string\n",
    "    for ele in s:\n",
    "        str1 += ele + ' '\n",
    "    # return string\n",
    "    return str1\n",
    "\n",
    "# Python program to convert a list to string\n",
    "def listToString_blank(s):\n",
    "    # initialize an empty string\n",
    "    str1 = \"\"\n",
    "    # traverse in the string\n",
    "    for ele in s:\n",
    "        str1 += ele + ''\n",
    "    # return string\n",
    "    return str1\n",
    "\n",
    "# Python program to convert a list to string\n",
    "def stringToList(s):\n",
    "    # initialize an empty string\n",
    "    str1 = []\n",
    "    # traverse in the string\n",
    "    for ele in range(int(len(s)/2)):\n",
    "        str1.append(s[ele*2])\n",
    "    # return string\n",
    "    return str1\n",
    "\n",
    "def mean(arr):\n",
    "    return sum(arr) / len(arr)\n",
    "\n",
    "def cross_correlation(x, y):\n",
    "    # Calculate means\n",
    "    x_mean = mean(x)\n",
    "    y_mean = mean(y)\n",
    "\n",
    "    # Calculate numerator\n",
    "    numerator = sum((a - x_mean) * (b - y_mean) for a, b in zip(x, y))\n",
    "\n",
    "    # Calculate denominators\n",
    "    x_sq_diff = sum((a - x_mean) ** 2 for a in x)\n",
    "    y_sq_diff = sum((b - y_mean) ** 2 for b in y)\n",
    "    denominator = math.sqrt(x_sq_diff * y_sq_diff)\n",
    "    correlation = numerator / denominator\n",
    "\n",
    "    return correlation\n",
    "\n",
    "\n",
    "def find_keys_by_value(dictionary, value):\n",
    "    return [key for key, val in dictionary.items() if val == value]\n",
    "\n",
    "\n",
    "def find_values_by_key(dictionary, keys):\n",
    "    return [dictionary[key] for key in keys]\n",
    "\n",
    "\n",
    "# def model_preprocessing_function(examples):\n",
    "#     return model_tokenizer(examples['text'], truncation=True, padding='max_length', max_length=MAX_LENGTH)\n",
    "\n",
    "\n",
    "def fnirs_process(current_dir, input_folder):\n",
    "\n",
    "    # column_name = ['AB_I_O', 'AB_PHI_O', 'AB_I_DO', 'AB_PHI_DO', 'CD_I_O', 'CD_PHI_O', 'CD_I_DO', 'CD_PHI_DO', 'label']\n",
    "    # data_df = pd.DataFrame([], columns=column_name)\n",
    "\n",
    "    data_all_transformed, target_all_transformed = [], []\n",
    "\n",
    "    subject_seg = 426\n",
    "    seg_length = 210 # sampling rate is 5.2Hz, one trial is 2 second length,\n",
    "    for file_i in range(len(input_folder)): #2):#\n",
    "        directory = input_folder[file_i]  ## 57: Haptics  41: FordA  33: Earthquakes  24: DistalPhalanxTW\n",
    "        input_data = current_dir + \"/\" + directory\n",
    "\n",
    "        ##   data reading\n",
    "        data_subject = pd.read_csv(input_data, header=None).to_numpy()\n",
    "        data_subject = data_subject[1:, :]\n",
    "        data_subject_size = data_subject.shape\n",
    "\n",
    "        subject_seg_temp = 0\n",
    "        seg_length_temp = 0\n",
    "        AA = np.zeros([subject_seg - 6, data_subject_size[1] - 1])\n",
    "        BB = np.zeros([seg_length, data_subject_size[1] - 1])\n",
    "        data_subject_transformed = np.zeros(\n",
    "            [int(data_subject_size[0] / subject_seg) * int(subject_seg / seg_length), data_subject_size[1] - 1, seg_length])\n",
    "        target_subject_transformed = np.zeros([int(data_subject_size[0] / subject_seg) * int(subject_seg / seg_length)],\n",
    "                                              dtype=int)\n",
    "        for i_subject_seg in range(int(data_subject_size[0] / subject_seg)):\n",
    "            AA = data_subject[i_subject_seg * subject_seg + 3:(i_subject_seg + 1) * subject_seg - 3, :]\n",
    "            subject_seg_temp += 1\n",
    "            for i_seg_length in range(int(subject_seg / seg_length)):\n",
    "                BB = AA[i_seg_length * seg_length:(i_seg_length + 1) * seg_length, :-1]\n",
    "                data_subject_transformed[seg_length_temp, :, :] = np.transpose(BB)\n",
    "                target_subject_transformed[seg_length_temp] = AA[i_seg_length * seg_length, -1]\n",
    "                seg_length_temp += 1\n",
    "\n",
    "        data_all_transformed.extend(data_subject_transformed)\n",
    "        target_all_transformed.extend(target_subject_transformed)\n",
    "\n",
    "    return np.array(data_all_transformed), np.array(target_all_transformed)\n",
    "\n",
    "\n",
    "def fnirs_process_slide_window(current_dir, input_folder):\n",
    "\n",
    "    # column_name = ['AB_I_O', 'AB_PHI_O', 'AB_I_DO', 'AB_PHI_DO', 'CD_I_O', 'CD_PHI_O', 'CD_I_DO', 'CD_PHI_DO', 'label']\n",
    "    # data_df = pd.DataFrame([], columns=column_name)\n",
    "\n",
    "    data_all_transformed, target_all_transformed = [], []\n",
    "\n",
    "    subject_seg = 150  # sampling rate is 5.2Hz, we set 30 second length,\n",
    "    for file_i in range(len(input_folder)): #2):#\n",
    "        directory = input_folder[file_i]\n",
    "        input_data = current_dir + \"/\" + directory\n",
    "\n",
    "        ##   data reading\n",
    "        data_subject = pd.read_csv(input_data, header=None).to_numpy()\n",
    "        data_subject = data_subject[1:, :]\n",
    "\n",
    "        data_subject_size = data_subject.shape\n",
    "\n",
    "        subject_seg_temp = 0\n",
    "        AA = np.zeros([subject_seg, data_subject_size[1]])\n",
    "        data_subject_transformed = np.zeros([int(data_subject_size[0] / subject_seg), subject_seg, data_subject_size[1] - 2])\n",
    "        target_subject_transformed = np.zeros([int(data_subject_size[0] / subject_seg)],\n",
    "                                              dtype=int)\n",
    "        for i_subject_seg in range(int(data_subject_size[0] / subject_seg)):\n",
    "            AA = data_subject[i_subject_seg * subject_seg:(i_subject_seg + 1) * subject_seg, :]\n",
    "            data_subject_transformed[subject_seg_temp, :, :] = AA[:, :-2]   #  np.transpose(BB)\n",
    "            target_subject_transformed[subject_seg_temp] = AA[75, -1]\n",
    "            subject_seg_temp += 1\n",
    "\n",
    "        baseline_index = np.where(target_subject_transformed == 0)\n",
    "        wm_load3_index = np.where(target_subject_transformed == 3)\n",
    "\n",
    "        baseline_data_subject_transformed = np.squeeze(data_subject_transformed[baseline_index, :, :])\n",
    "        wm_load3_data_subject_transformed = np.squeeze(data_subject_transformed[wm_load3_index, :, :])\n",
    "\n",
    "        baseline_target_subject_transformed = target_subject_transformed[baseline_index]\n",
    "        wm_load3_target_subject_transformed = np.ones_like(target_subject_transformed[wm_load3_index])\n",
    "\n",
    "        BinaryClass_data_subject_transformed = np.concatenate((baseline_data_subject_transformed, wm_load3_data_subject_transformed), axis = 0)\n",
    "        BinaryClass_dtarget_subject_transformed = np.concatenate((baseline_target_subject_transformed, wm_load3_target_subject_transformed), axis = 0)\n",
    "\n",
    "        data_all_transformed.extend(BinaryClass_data_subject_transformed)\n",
    "        target_all_transformed.extend(BinaryClass_dtarget_subject_transformed)\n",
    "\n",
    "    return np.array(data_all_transformed), np.array(target_all_transformed)\n"
   ]
  },
  {
   "cell_type": "markdown",
   "metadata": {},
   "source": [
    "Let's load a meaning representation dataset, and fine-tune Mistral on that. This is a great fine-tuning dataset as it teaches the model a unique form of desired output on which the base model performs poorly out-of-the box, so it's helpful to easily and inexpensively gauge whether the fine-tuned model has learned well. (Sources: [here](https://ragntune.com/blog/gpt3.5-vs-llama2-finetuning) and [here](https://www.anyscale.com/blog/fine-tuning-is-for-form-not-facts)) (In contrast, if you fine-tune on a fact-based dataset, the model may already do quite well on that, and gauging learning is less obvious / may be more computationally expensive.)"
   ]
  },
  {
   "cell_type": "code",
   "execution_count": 5,
   "metadata": {},
   "outputs": [],
   "source": [
    "from utils.data_loader import load_from_tsfile_to_dataframe\n",
    "from utils.regressor_tools import process_data, fit_regressor, calculate_regression_metrics\n",
    "from utils.tools import create_directory\n",
    "from utils.transformer_tools import fit_transformer\n",
    "\n",
    "\n",
    "\n",
    "if task_tpye == \"classification\":\n",
    "    if data_name == 'eeg-eye-state':\n",
    "\n",
    "        from scipy.io import arff\n",
    "        data = arff.loadarff('data/eeg-eye-state/EEG_Eye_State.arff')\n",
    "        data_df = pd.DataFrame(data[0])\n",
    "        data_df['eyeDetection'] = data_df['eyeDetection'].astype('int')\n",
    "        num_classes = 2\n",
    "\n",
    "        ### one segment has 250ms, as sampling rate is 128\n",
    "        seg_length = 16\n",
    "\n",
    "        from scipy import stats\n",
    "        from copy import deepcopy\n",
    "\n",
    "        temp_data_frame = deepcopy(data_df)\n",
    "        clean_data_frame = deepcopy(data_df)\n",
    "        for column in temp_data_frame.columns[:-1]:\n",
    "            temp_data_frame[str(column) + 'z_score'] = stats.zscore(temp_data_frame[column])\n",
    "            clean_data_frame[column] = temp_data_frame.loc[temp_data_frame[str(column) + 'z_score'].abs() <= 3][column]\n",
    "\n",
    "        clean_data_frame.interpolate(method='linear', inplace=True)\n",
    "\n",
    "        temp_data_frame = deepcopy(clean_data_frame)\n",
    "        clean_data_frame_second = deepcopy(clean_data_frame)\n",
    "\n",
    "        for column in temp_data_frame.columns[:-1]:\n",
    "            temp_data_frame[str(column) + 'z_score'] = stats.zscore(temp_data_frame[column])\n",
    "            clean_data_frame_second[column] = temp_data_frame.loc[temp_data_frame[str(column) + 'z_score'].abs() <= 3][\n",
    "                column]\n",
    "\n",
    "        clean_data_frame_second.interpolate(method='linear', inplace=True)\n",
    "\n",
    "        # clean_data_frame_second_normalized = 2 * (clean_data_frame_second - clean_data_frame_second.mean()) / (\n",
    "        #         clean_data_frame_second.max() - clean_data_frame_second.min())\n",
    "        #\n",
    "        # clean_data_frame_second_normalized = clean_data_frame_second_normalized.to_numpy()\n",
    "\n",
    "\n",
    "\n",
    "    elif data_name == 'ptbdb':\n",
    "\n",
    "        abnormal_df = pd.read_csv('data/mitbih/ptbdb_abnormal.csv', header=None)\n",
    "        normal_df = pd.read_csv('data/mitbih/ptbdb_normal.csv', header=None)\n",
    "\n",
    "        abnormal_length = abnormal_df.shape[0]\n",
    "        normal_length = normal_df.shape[0]\n",
    "\n",
    "        y_data = np.concatenate((np.zeros([abnormal_length], dtype=int), np.ones([normal_length], dtype=int)), axis=0)\n",
    "        X_data = pd.concat([abnormal_df, normal_df]).to_numpy()\n",
    "\n",
    "        arranged_seq = np.random.randint(len(y_data), size=len(y_data))\n",
    "        X_data = X_data[arranged_seq, :]\n",
    "        y_data = y_data[arranged_seq]\n",
    "\n",
    "        # Assign meaningful names to the class labels based on domain knowledge\n",
    "        class_names = {\n",
    "            0: \"Abnormal\",\n",
    "            1: \"Normal\",\n",
    "        }\n",
    "\n",
    "        num_classes = len(class_names)\n",
    "\n",
    "        from sklearn.utils.class_weight import compute_class_weight\n",
    "        label_weights = compute_class_weight(class_weight=\"balanced\", classes=np.unique(y_data), y=y_data)\n",
    "\n",
    "        jabba = JABBA(tol=ABBA_tol, init=ABBA_init,\n",
    "                      alpha=ABBA_alpha, scl=ABBA_scl, verbose=0)\n",
    "\n",
    "        # Initialize the StandardScaler\n",
    "        scaler = StandardScaler()\n",
    "\n",
    "        # Fit the scaler to the training data and transform it\n",
    "        X_data = scaler.fit_transform(X_data)\n",
    "        symbols = jabba.fit_transform(X_data, alphabet_set=vocab_list)\n",
    "        # reconstruction = jabba.inverse_transform(symbols)\n",
    "        print('##############################################################')\n",
    "        print(\"The length of one symbols element is:\" + str(len(symbols[100])))\n",
    "        print(\"The length of used symbols is:\" + str(jabba.parameters.centers.shape[0]))\n",
    "\n",
    "        symbols_convert = []\n",
    "        for i_data in range(len(symbols)):\n",
    "            symbols_convert.append(listToString(list(symbols[i_data])))\n",
    "\n",
    "        train_data_symbolic, test_data_symbolic, train_target_symbolic, test_target_symbolic = train_test_split(\n",
    "            symbols_convert, y_data, test_size=0.2)\n",
    "\n",
    "    elif data_name == 'fnirs':\n",
    "\n",
    "        ###############   fnirs data   ###############\n",
    "        # num_classes = 4\n",
    "        current_dir = \"data/fNIRS-mental-workload/size_30sec_150ts_stride_03ts\"\n",
    "        fNIRS_folder = os.listdir(current_dir)\n",
    "\n",
    "        directory_all = sorted(fNIRS_folder)\n",
    "\n",
    "        train_data_subjects, test_data_subjects = train_test_split(directory_all, test_size=0.05)\n",
    "        # train_all_transformed, train_target_all_transformed = fnirs_process(fnirs_process_slide_window, train_data_subjects)\n",
    "        # test_all_transformed, test_target_all_transformed = fnirs_process(current_dir, test_data_subjects)\n",
    "\n",
    "        train_all_transformed, train_target_all_transformed = fnirs_process_slide_window(current_dir, train_data_subjects)\n",
    "        test_all_transformed, test_target_all_transformed = fnirs_process_slide_window(current_dir, test_data_subjects)\n",
    "\n",
    "        train_length, test_length, = train_all_transformed.shape[0], test_all_transformed.shape[0]\n",
    "\n",
    "        arranged_seq = np.random.randint(len(train_target_all_transformed), size=len(train_target_all_transformed))\n",
    "        train_all_transformed = train_all_transformed[arranged_seq, :, :]\n",
    "        train_target_all_transformed = train_target_all_transformed[arranged_seq]\n",
    "\n",
    "        X_data = np.concatenate((train_all_transformed, test_all_transformed), axis=0)\n",
    "        y_data = np.concatenate((train_target_all_transformed, test_target_all_transformed), axis=0)\n",
    "\n",
    "        # X_data = np.transpose(X_data, (2, 1, 0))\n",
    "        X_data_temp = np.reshape(X_data, (X_data.shape[0] * X_data.shape[1], X_data.shape[2]))\n",
    "        scaler = preprocessing.MinMaxScaler(feature_range=(0, 1))\n",
    "        X_data_temp = scaler.fit_transform(X_data_temp)\n",
    "        X_data = np.reshape(X_data_temp, (X_data.shape[0], X_data.shape[1], X_data.shape[2]))\n",
    "\n",
    "        # X_data = np.transpose(X_data, (0, 2, 1))\n",
    "        jabba = JABBA(tol=ABBA_tol, init=ABBA_init,\n",
    "                      alpha=ABBA_alpha, scl=ABBA_scl, verbose=0)\n",
    "\n",
    "        symbols = jabba.fit_transform(X_data, alphabet_set=vocab_list)\n",
    "        # reconstruction = jabba.inverse_transform(symbols)\n",
    "        print('##############################################################')\n",
    "        print(\"The length of one symbols element is:\" + str(len(symbols[100])))\n",
    "        print(\"The length of used symbols is:\" + str(jabba.parameters.centers.shape[0]))\n",
    "\n",
    "        symbols_convert = []\n",
    "        for i_data in range(len(symbols)):\n",
    "            symbols_convert.append(listToString(list(symbols[i_data])))\n",
    "\n",
    "        from sklearn.utils.class_weight import compute_class_weight\n",
    "        label_weights = compute_class_weight(class_weight=\"balanced\", classes=np.unique(y_data), y=y_data)\n",
    "\n",
    "        train_data_symbolic_temp, test_data_symbolic, train_target_symbolic, test_target_symbolic = \\\n",
    "            symbols_convert[:train_length], symbols_convert[train_length:], y_data[:train_length], y_data[train_length:]\n",
    "\n",
    "        train_data_symbolic = []\n",
    "        arranged_seq = np.random.randint(len(train_target_symbolic), size=len(train_target_symbolic))\n",
    "        for i_arranged_seq in arranged_seq:\n",
    "            train_data_symbolic.append(train_data_symbolic_temp[i_arranged_seq])\n",
    "        train_target_symbolic = train_target_symbolic[arranged_seq]\n",
    "\n",
    "    elif data_name == 'mitbih':\n",
    "\n",
    "        train_df = pd.read_csv('data/mitbih/mitbih_train.csv', header=None)\n",
    "        test_df = pd.read_csv('data//mitbih/mitbih_test.csv', header=None)\n",
    "\n",
    "        train_length, test_length, = train_df.shape[0], test_df.shape[0]\n",
    "\n",
    "        arranged_seq = np.random.randint(train_length, size=train_length)\n",
    "        train_df = train_df.iloc[arranged_seq]\n",
    "\n",
    "        data_df = pd.concat([train_df, test_df])\n",
    "        # Assuming the target column is the last column\n",
    "        target_column_index = data_df.shape[1] - 1\n",
    "\n",
    "        # Get the unique values in the target column\n",
    "        class_labels = data_df[target_column_index].unique()\n",
    "\n",
    "        # Assign meaningful names to the class labels based on domain knowledge\n",
    "        class_names = {\n",
    "            0: \"Normal Beats\",\n",
    "            1: \"Supraventricular Ectopy Beats\",\n",
    "            2: \"Ventricular Ectopy Beats\",\n",
    "            3: \"Fusion Beats\",\n",
    "            4: \"Unclassifiable Beats\"\n",
    "        }\n",
    "\n",
    "        num_classes = len(class_names)\n",
    "        # num_classes = 1\n",
    "\n",
    "\n",
    "        # Print class labels with their assigned names\n",
    "        for label in class_labels:\n",
    "            print(f\"Class label {label}: {class_names[label]}\")\n",
    "\n",
    "        X_data = data_df.drop(columns=[187]).to_numpy()\n",
    "\n",
    "        y_data_temp = data_df[187].to_numpy()\n",
    "        y_data = []\n",
    "        for i_data in range(len(y_data_temp)):\n",
    "            # print(i_data)\n",
    "            y_data.append(int(y_data_temp[i_data]))\n",
    "        y_data = np.array(y_data)\n",
    "\n",
    "        from sklearn.utils.class_weight import compute_class_weight\n",
    "        label_weights = compute_class_weight(class_weight=\"balanced\", classes=np.unique(y_data), y=y_data)\n",
    "\n",
    "        # Initialize the StandardScaler\n",
    "        scaler = StandardScaler()\n",
    "\n",
    "\n",
    "elif task_tpye == \"regression\":\n",
    "    ###############   Monash Regression data   ###############\n",
    "\n",
    "    # data_name = ['AppliancesEnergy', 'HouseholdPowerConsumption1', 'HouseholdPowerConsumption2', 'BenzeneConcentration',\n",
    "    #              'BeijingPM25Quality', 'BeijingPM10Quality', 'LiveFuelMoistureContent', 'FloodModeling1',\n",
    "    #              'FloodModeling2',\n",
    "    #              'FloodModeling3', 'AustraliaRainfall', 'PPGDalia', 'IEEEPPG', 'BIDMCRR', 'BIDMCHR', 'BIDMCSpO2',\n",
    "    #              'NewsHeadlineSentiment',\n",
    "    #              'NewsTitleSentiment', 'Covid3Month']\n",
    "\n",
    "    data_folder = 'data/monash-regression/'\n",
    "    train_file = data_folder + data_name + \"_TRAIN.ts\"\n",
    "    test_file = data_folder + data_name + \"_TEST.ts\"\n",
    "\n",
    "    X_train, y_train = load_from_tsfile_to_dataframe(train_file)\n",
    "    X_test, y_test = load_from_tsfile_to_dataframe(test_file)\n",
    "    norm = \"minmax\"  # none, standard, minmax\n",
    "\n",
    "    train_test_split = [X_train.shape[0], X_test.shape[0]]\n",
    "    data_all = pd.concat([X_train, X_test])\n",
    "    target_scaled = np.concatenate([y_train, y_test])\n",
    "\n",
    "    min_len = np.inf\n",
    "    for i in range(len(data_all)):\n",
    "        x = data_all.iloc[i, :]\n",
    "        all_len = [len(y) for y in x]\n",
    "        min_len = min(min(all_len), min_len)\n",
    "    # print(\"[{}] Minimum length: {}\".format(module, min_len))\n",
    "\n",
    "\n",
    "elif task_tpye == \"forecasting\":\n",
    "\n",
    "    \n",
    "        ###############   Loading data   ###############\n",
    "    if (data_name == 'ETTh1') or (data_name == 'ETTh2'):\n",
    "\n",
    "        current_file = 'data/time-series-dataset/dataset/ETT-small/'\n",
    "        df_raw = pd.read_csv(os.path.join(current_file, data_name + '.csv'))\n",
    "        border1s = [0, 12 * 30 * 24 - seq_len_pre, 12 * 30 * 24 + 4 * 30 * 24 - seq_len_post]\n",
    "        border2s = [12 * 30 * 24, 12 * 30 * 24 + 4 * 30 * 24, 12 * 30 * 24 + 8 * 30 * 24]\n",
    "\n",
    "    elif (data_name == 'ETTm1') or (data_name == 'ETTm2'):\n",
    "        current_file = 'data/time-series-dataset/dataset/ETT-small/'\n",
    "\n",
    "        df_raw = pd.read_csv(os.path.join(current_file, data_name + '.csv'))\n",
    "        border1s = [0, 12 * 30 * 24 * 4 - seq_len_pre, 12 * 30 * 24 * 4 + 4 * 30 * 24 * 4 - seq_len_post]\n",
    "        border2s = [12 * 30 * 24 * 4, 12 * 30 * 24 * 4 + 4 * 30 * 24 * 4, 12 * 30 * 24 * 4 + 8 * 30 * 24 * 4]\n",
    "\n",
    "    elif (data_name == 'Weather'):\n",
    "        current_file = 'data/time-series-dataset/dataset/ETT-small/'\n",
    "\n",
    "        df_raw = pd.read_csv(os.path.join(current_file, data_name + '.csv'))\n",
    "        border1s = [0, 6 * 30 * 24 * 6 - seq_len_pre, 6 * 30 * 24 * 6 + 0 * 30 * 24 * 6 - seq_len_post]\n",
    "        border2s = [6 * 30 * 24 * 6, 6 * 30 * 24 * 6 + 0 * 30 * 24 * 6, 6 * 30 * 24 * 6 + 6 * 30 * 24 * 6]\n",
    "\n",
    "      \n",
    "    cols_data = df_raw.columns[1:]\n",
    "    df_data = df_raw[cols_data]\n",
    "\n",
    "    train_data = df_data[border1s[0]:border2s[0]]\n",
    "\n",
    "else:\n",
    "    print(\"No data here!\")\n",
    "\n"
   ]
  },
  {
   "cell_type": "code",
   "execution_count": null,
   "metadata": {},
   "outputs": [],
   "source": []
  },
  {
   "cell_type": "markdown",
   "metadata": {},
   "source": [
    "## 2. Setting Hyperparameters: ABBA, QLoRA, LLM"
   ]
  },
  {
   "cell_type": "markdown",
   "metadata": {},
   "source": [
    "### 2.1 Settiing ABBA\n",
    "\n",
    ">There are several hyperparameters that effect the performance of ABBA on Time Series, including:\n",
    ">>'tol' is given to determine the degree of the reduction. A smaller 'tol' makes time series well approximated by symbolic series.\n",
    ">\n",
    ">>'init' is the initiation method which is used to cluster the input time series, and there are two methods - \"k-means\" and \"aggregation\". Aggregation is the default method of 'init', saying \"init='agg'\".\n",
    ">\n",
    ">>'alpha' is utilized to control the acceptable approximation error.\n",
    ">\n",
    ">>'scl' is a scaling parameter used to assign different weight (“importance”) to the length of each piece in relation to its increment value. If 'scl=0', then clustering is performed on the increments alone, while if 'scl=1', we cluster in both the length and increment dimension with equal weighting. The cluster assignment is performed by (approximately) minimizing the within-cluster-sum-of-squares. Referred to [ABBA: adaptive Brownian bridge-based symbolic aggregation of time series](https://link.springer.com/article/10.1007/s10618-020-00689-6).\n",
    ">\n",
    ">>'len' is the\n",
    ">\n",
    ">>'inc' is the\n",
    ">\n",
    ">>'alphabet_set' is the used to transform the numerical series to symolic series. The alphabet can be the pretrained tokens or ASCII codes.\n"
   ]
  },
  {
   "cell_type": "code",
   "execution_count": null,
   "metadata": {},
   "outputs": [],
   "source": []
  },
  {
   "cell_type": "code",
   "execution_count": 6,
   "metadata": {},
   "outputs": [],
   "source": [
    "warnings.filterwarnings(\"ignore\")\n",
    "\n",
    "ABBA_tol = 0.000040837\n",
    "ABBA_init = 'agg'\n",
    "ABBA_alpha = 0.000040837\n",
    "bits_for_len = 16 # No quantization on ABBA\n",
    "bits_for_inc = 16 # No quantization on ABBA\n",
    "ABBA_scl = 3\n",
    "ABBA_verbose = 0\n",
    "\n"
   ]
  },
  {
   "cell_type": "markdown",
   "metadata": {},
   "source": [
    "\n",
    "Set up the tokenizer. Add padding on the left as it [makes training use less memory](https://ai.stackexchange.com/questions/41485/while-fine-tuning-a-decoder-only-llm-like-llama-on-chat-dataset-what-kind-of-pa).\n"
   ]
  },
  {
   "cell_type": "code",
   "execution_count": null,
   "metadata": {},
   "outputs": [],
   "source": []
  },
  {
   "cell_type": "markdown",
   "metadata": {},
   "source": [
    "### 2.2 Settiing QLoRA\n",
    "\n",
    "[QLoRA](https://github.com/artidoro/qlora) is a highly efficient approach to fine-tune an LLM that allows you to train on a single GPU, and it’s become ubiquitous for these sorts of projects. It combines 2 techniques:\n",
    "\n",
    ">Quantization, i.e. using an LLM with weight precision reduced to 4 bits\n",
    ">\n",
    ">LoRA (low-rank adaptation of LLMs) which freezes model weights and injects new layers, vastly reducing the number of weights to be trained.\n"
   ]
  },
  {
   "cell_type": "code",
   "execution_count": 7,
   "metadata": {
    "execution": {
     "iopub.execute_input": "2024-03-25T23:30:10.876214Z",
     "iopub.status.busy": "2024-03-25T23:30:10.875855Z",
     "iopub.status.idle": "2024-03-25T23:30:10.961483Z",
     "shell.execute_reply": "2024-03-25T23:30:10.960499Z",
     "shell.execute_reply.started": "2024-03-25T23:30:10.876188Z"
    },
    "id": "haSUDD9HyRgf"
   },
   "outputs": [],
   "source": [
    "lora_r = 16  # the dimension of the low-rank matrices\n",
    "lora_alpha = 16  # scaling factor for LoRA activations vs pre-trained weight activations\n",
    "target_modules = [\n",
    "    \"q_proj\",\n",
    "    \"k_proj\",\n",
    "    \"v_proj\",\n",
    "    \"o_proj\",\n",
    "    \"gate_proj\",\n",
    "    \"up_proj\",\n",
    "    \"down_proj\",\n",
    "    \"lm_head\",\n",
    "]\n",
    "modules_to_save = [\"embed_tokens\"]\n",
    "lora_dropout = 0.05  # dropout probability of the LoRA layers"
   ]
  },
  {
   "cell_type": "code",
   "execution_count": 8,
   "metadata": {},
   "outputs": [
    {
     "data": {
      "text/plain": [
       "0.05"
      ]
     },
     "execution_count": 8,
     "metadata": {},
     "output_type": "execute_result"
    }
   ],
   "source": [
    "lora_dropout"
   ]
  },
  {
   "cell_type": "markdown",
   "metadata": {},
   "source": [
    "### 2.2 Settiing LLM\n",
    "\n",
    "\n",
    "[QLoRA](https://github.com/artidoro/qlora) is a highly efficient approach to fine-tune an LLM that allows you to train on a single GPU, and it’s become ubiquitous for these sorts of projects. It combines 2 techniques:\n",
    "\n",
    "\n"
   ]
  },
  {
   "cell_type": "code",
   "execution_count": 10,
   "metadata": {},
   "outputs": [
    {
     "name": "stdout",
     "output_type": "stream",
     "text": [
      "The length of used symbols is: 844\n",
      "##############################################################\n",
      "The length of used symbols is:844\n",
      "#############################  END  #################################\n"
     ]
    },
    {
     "data": {
      "image/png": "[encoded data removed]",
      "text/plain": [
       "<Figure size 640x480 with 1 Axes>"
      ]
     },
     "metadata": {},
     "output_type": "display_data"
    },
    {
     "data": {
      "image/png": "[encoded data removed]",
      "text/plain": [
       "<Figure size 640x480 with 1 Axes>"
      ]
     },
     "metadata": {},
     "output_type": "display_data"
    },
    {
     "data": {
      "image/png": "[encoded data removed]",
      "text/plain": [
       "<Figure size 640x480 with 1 Axes>"
      ]
     },
     "metadata": {},
     "output_type": "display_data"
    },
    {
     "data": {
      "image/png": "[encoded data removed]",
      "text/plain": [
       "<Figure size 640x480 with 1 Axes>"
      ]
     },
     "metadata": {},
     "output_type": "display_data"
    },
    {
     "data": {
      "image/png": "[encoded data removed]",
      "text/plain": [
       "<Figure size 640x480 with 1 Axes>"
      ]
     },
     "metadata": {},
     "output_type": "display_data"
    },
    {
     "data": {
      "image/png": "[encoded data removed]",
      "text/plain": [
       "<Figure size 640x480 with 1 Axes>"
      ]
     },
     "metadata": {},
     "output_type": "display_data"
    },
    {
     "data": {
      "image/png": "[encoded data removed]",
      "text/plain": [
       "<Figure size 640x480 with 1 Axes>"
      ]
     },
     "metadata": {},
     "output_type": "display_data"
    },
    {
     "name": "stdout",
     "output_type": "stream",
     "text": [
      "###############################\n",
      "0.00023449446181028852\n",
      "0.00935139222201727\n"
     ]
    }
   ],
   "source": [
    "if task_tpye == \"classification\":\n",
    "    if data_name == 'eeg-eye-state':\n",
    "\n",
    "        # Initialize the StandardScaler\n",
    "        scaler = StandardScaler()\n",
    "        # Fit the scaler to the training data and transform it\n",
    "        clean_data_frame_second_normalized = scaler.fit_transform(clean_data_frame_second)\n",
    "        data_labels = data_df['eyeDetection'].to_numpy()\n",
    "\n",
    "        total_seg_num = int(len(data_labels) / seg_length)\n",
    "\n",
    "        X_data = np.zeros([total_seg_num, seg_length, 14], dtype=float)\n",
    "        y_data = np.zeros([total_seg_num], dtype=int)\n",
    "\n",
    "        seg_num = 0\n",
    "        for i_seg in range(total_seg_num):\n",
    "            X_data[seg_num, :, :] = clean_data_frame_second_normalized[i_seg * seg_length:(i_seg + 1) * seg_length, :-1]\n",
    "            temp_a = data_labels[i_seg * seg_length:(i_seg + 1) * seg_length]\n",
    "            # print(temp_a)\n",
    "            if np.mean(temp_a) > 0.5:\n",
    "                y_data[seg_num] = 1\n",
    "            seg_num += 1\n",
    "\n",
    "        from sklearn.utils.class_weight import compute_class_weight\n",
    "        label_weights = compute_class_weight(class_weight=\"balanced\", classes=np.unique(y_data), y=y_data)\n",
    "\n",
    "        from fABBA import JABBA\n",
    "        jabba = JABBA(tol=ABBA_tol, init=ABBA_init, alpha=ABBA_alpha, scl=ABBA_scl, verbose=0)\n",
    "\n",
    "        symbols = jabba.fit_transform(X_data, alphabet_set=vocab_list)\n",
    "        reconstruction = jabba.inverse_transform(symbols)\n",
    "        reconst_same_shape = jabba.recast_shape(reconstruction)  # recast into original shape\n",
    "\n",
    "        print('##############################################################')\n",
    "        print(\"The length of one symbols element is:\" + str(len(symbols[10])))\n",
    "        print(\"The length of used symbols is:\" + str(jabba.parameters.centers.shape[0]))\n",
    "\n",
    "        index_plot = 2\n",
    "        for i_plot in range(14):\n",
    "            #         plt.subplot(1, 7, i_plot+1)\n",
    "            plt.plot(X_data[index_plot, :, i_plot], label='Ground Truth')\n",
    "            plt.plot(reconst_same_shape[index_plot, :, i_plot], label='Reconstruction')\n",
    "\n",
    "            # Cross_Correlation = cross_correlation(X_data[i_plot, :], reconstruction[i_plot])\n",
    "            # plt.rcParams.update({'font.size': 20})\n",
    "            # plt.title('Cross Correlation: ' + str(\"{:.3}\".format(Cross_Correlation)), fontsize=20)\n",
    "\n",
    "            plt.title('The length of symbols: ' + str(len(symbols[index_plot])), fontsize=20)\n",
    "            plt.xlabel('Inout Length', fontsize=20)\n",
    "            plt.ylabel('Feature ' + str(i_plot + 1), fontsize=20)\n",
    "\n",
    "            plt.legend(fontsize=12)\n",
    "            plt.grid(True, axis='y')\n",
    "            plt.tight_layout()\n",
    "#             plt.savefig('Compression_Reproduction_img_S' + data_name + '_Feature' + str(i_plot) + '.jpg')\n",
    "            plt.show()\n",
    "            plt.close()\n",
    "\n",
    "\n",
    "        symbols_convert = []\n",
    "        for i_data in range(len(symbols)):\n",
    "            # print(i_data)\n",
    "            symbols_convert.append(listToString(list(symbols[i_data])))\n",
    "\n",
    "        train_data_symbolic, test_data_symbolic, train_target_symbolic, test_target_symbolic = train_test_split(\n",
    "            symbols_convert, y_data, test_size=0.2)\n",
    "\n",
    "    elif data_name == 'ptbdb':\n",
    "\n",
    "\n",
    "        jabba = JABBA(tol=ABBA_tol, init=ABBA_init, alpha=ABBA_alpha, scl=ABBA_scl, verbose=0)\n",
    "\n",
    "        # Initialize the StandardScaler\n",
    "        scaler = StandardScaler()\n",
    "\n",
    "        # Fit the scaler to the training data and transform it\n",
    "        X_data = scaler.fit_transform(X_data)\n",
    "        symbols = jabba.fit_transform(X_data, alphabet_set=vocab_list)\n",
    "        # reconstruction = jabba.inverse_transform(symbols)\n",
    "        print('##############################################################')\n",
    "        print(\"The length of one symbols element is:\" + str(len(symbols[100])))\n",
    "        print(\"The length of used symbols is:\" + str(jabba.parameters.centers.shape[0]))\n",
    "\n",
    "        symbols_convert = []\n",
    "        for i_data in range(len(symbols)):\n",
    "            symbols_convert.append(listToString(list(symbols[i_data])))\n",
    "\n",
    "        train_data_symbolic, test_data_symbolic, train_target_symbolic, test_target_symbolic = train_test_split(\n",
    "            symbols_convert, y_data, test_size=0.2)\n",
    "\n",
    "    elif data_name == 'fnirs':\n",
    "\n",
    "        ###############   fnirs data   ###############\n",
    "\n",
    "        scaler = preprocessing.MinMaxScaler(feature_range=(0, 1))\n",
    "        X_data_temp = scaler.fit_transform(X_data_temp)\n",
    "        X_data = np.reshape(X_data_temp, (X_data.shape[0], X_data.shape[1], X_data.shape[2]))\n",
    "\n",
    "        # X_data = np.transpose(X_data, (0, 2, 1))\n",
    "        jabba = JABBA(tol=ABBA_tol, init=ABBA_init, alpha=ABBA_alpha, scl=ABBA_scl, verbose=0)\n",
    "\n",
    "        symbols = jabba.fit_transform(X_data, alphabet_set=vocab_list)\n",
    "        reconstruction = jabba.inverse_transform(symbols)\n",
    "        print('##############################################################')\n",
    "        print(\"The length of one symbols element is:\" + str(len(symbols[100])))\n",
    "        print(\"The length of used symbols is:\" + str(jabba.parameters.centers.shape[0]))\n",
    "\n",
    "        symbols_convert = []\n",
    "        for i_data in range(len(symbols)):\n",
    "            symbols_convert.append(listToString(list(symbols[i_data])))\n",
    "\n",
    "        from sklearn.utils.class_weight import compute_class_weight\n",
    "        label_weights = compute_class_weight(class_weight=\"balanced\", classes=np.unique(y_data), y=y_data)\n",
    "\n",
    "        train_data_symbolic_temp, test_data_symbolic, train_target_symbolic, test_target_symbolic = \\\n",
    "            symbols_convert[:train_length], symbols_convert[train_length:], y_data[:train_length], y_data[train_length:]\n",
    "\n",
    "        train_data_symbolic = []\n",
    "        arranged_seq = np.random.randint(len(train_target_symbolic), size=len(train_target_symbolic))\n",
    "        for i_arranged_seq in arranged_seq:\n",
    "            train_data_symbolic.append(train_data_symbolic_temp[i_arranged_seq])\n",
    "        train_target_symbolic = train_target_symbolic[arranged_seq]\n",
    "\n",
    "    elif data_name == 'mitbih':\n",
    "\n",
    "        # Initialize the StandardScaler\n",
    "        scaler = StandardScaler()\n",
    "\n",
    "        # Fit the scaler to the training data and transform it\n",
    "        X_data = scaler.fit_transform(X_data)\n",
    "\n",
    "        jabba = JABBA(tol=ABBA_tol, init=ABBA_init, alpha=ABBA_alpha, scl=ABBA_scl, verbose=1)\n",
    "\n",
    "        symbols = jabba.fit_transform(X_data, alphabet_set=vocab_list_new)\n",
    "        # reconstruction = jabba.inverse_transform(symbols)\n",
    "        print('##############################################################')\n",
    "        print(\"The length of one symbols element is:\" + str(len(symbols[100])))\n",
    "        print(\"The length of used symbols is:\" + str(jabba.parameters.centers.shape[0]))\n",
    "\n",
    "\n",
    "        symbols_convert = []\n",
    "        for i_data in range(len(symbols)):\n",
    "            # print(i_data)\n",
    "            symbols_convert.append(listToString(list(symbols[i_data])))\n",
    "\n",
    "        from sklearn.utils.class_weight import compute_class_weight\n",
    "        label_weights = compute_class_weight(class_weight=\"balanced\", classes=np.unique(y_data), y=y_data)\n",
    "\n",
    "        # train_data_symbolic, test_data_symbolic, train_target_symbolic, test_target_symbolic = \\\n",
    "        #     symbols_convert[:train_length], symbols_convert[train_length:], y_data[:train_length], y_data[train_length:]\n",
    "\n",
    "        # train_data_symbolic, test_data_symbolic, train_target_symbolic, test_target_symbolic = \\\n",
    "        #     symbols_convert[:5000], symbols_convert[6000:8500], y_data[:5000], y_data[6000:8500]\n",
    "        train_data_symbolic, test_data_symbolic, train_target_symbolic, test_target_symbolic = train_test_split(\n",
    "            symbols_convert, y_data, test_size=0.2)\n",
    "\n",
    "    data_TS = DatasetDict({\n",
    "        'train': Dataset.from_dict({'text_outputs': train_target_symbolic, 'text_inputs': train_data_symbolic}),\n",
    "        'val': Dataset.from_dict({'text_outputs': test_target_symbolic, 'text_inputs': test_data_symbolic})\n",
    "    })\n",
    "\n",
    "#     model_tokenized_datasets = data_TS.map(model_preprocessing_function, batched=True)\n",
    "#     model_tokenized_datasets.set_format(\"torch\")\n",
    "\n",
    "#     project = \"ts-finetune-\" + data_name\n",
    "#     # b-instruct-v0.1-h\n",
    "#     run_name = model_name + \"-\" + project\n",
    "#     output_dir = \"./\" + run_name\n",
    "\n",
    "\n",
    "    output_scaler = open(str(model_name + \"_\" + data_name + \"-Scaler_Pre\" + \"_save.pkl\"), 'wb')\n",
    "    output_jabba = open(str(model_name + \"_\" + data_name + \"-ABBA_Pre\" + \"_save.pkl\"), 'wb')\n",
    "\n",
    "    str1 = pickle.dumps(scaler)\n",
    "    output_scaler.write(str1)\n",
    "    output_scaler.close()\n",
    "\n",
    "    str2 = pickle.dumps(qabba)\n",
    "    output_jabba.write(str2)\n",
    "    output_jabba.close()\n",
    "\n",
    "elif task_tpye == \"regression\":\n",
    "    \n",
    "    ###############   Monash Regression data   ###############\n",
    "    data_scaled = process_data(data_all, normalise=norm, min_len=min_len)\n",
    "\n",
    "    from fABBA import JABBA\n",
    "    jabba = JABBA(tol=ABBA_tol, init=ABBA_init, alpha=ABBA_alpha, scl=ABBA_scl, verbose=0)\n",
    "    \n",
    "    # symbols = jabba.fit_transform(data_scaled)\n",
    "    symbols = jabba.fit_transform(data_scaled, alphabet_set=vocab_list)\n",
    "    reconstruction = jabba.inverse_transform(symbols)\n",
    "    reconst_same_shape = jabba.recast_shape(reconstruction)  # recast into original shape\n",
    "    \n",
    "    index_plot = 2\n",
    "    for i_plot in range(14):\n",
    "        #         plt.subplot(1, 7, i_plot+1)\n",
    "        plt.plot(data_scaled[i_plot, :, :], label='Ground Truth')\n",
    "        plt.plot(reconst_same_shape[i_plot, :, :], label='Reconstruction')\n",
    "\n",
    "        # Cross_Correlation = cross_correlation(X_data[i_plot, :], reconstruction[i_plot])\n",
    "        # plt.rcParams.update({'font.size': 20})\n",
    "        # plt.title('Cross Correlation: ' + str(\"{:.3}\".format(Cross_Correlation)), fontsize=20)\n",
    "\n",
    "        plt.title('The length of symbols: ' + str(len(symbols[index_plot])), fontsize=20)\n",
    "        plt.xlabel('Inout Length', fontsize=20)\n",
    "        plt.ylabel('Feature ' + str(i_plot + 1), fontsize=20)\n",
    "\n",
    "        plt.legend(fontsize=12)\n",
    "        plt.grid(True, axis='y')\n",
    "        plt.tight_layout()\n",
    "#         plt.savefig('Compression_Reproduction_img_S' + data_name + '_Feature' + str(i_plot) + '.jpg')\n",
    "        plt.show()\n",
    "        plt.close()\n",
    "\n",
    "            \n",
    "    print('##############################################################')\n",
    "    print(\"[{}] Task: {}\".format(model_name, data_name))\n",
    "    print(\"The length of used symbols is:\" + str(jabba.parameters.centers.shape[0]))\n",
    "\n",
    "\n",
    "    symbols_convert = []\n",
    "    for i_data in range(len(symbols)):\n",
    "        symbols_convert.append(listToString(list(symbols[i_data])))\n",
    "\n",
    "    train_data_symbolic, test_data_symbolic, train_target_symbolic, test_target_symbolic = \\\n",
    "        symbols_convert[:train_test_split[0]], symbols_convert[train_test_split[0]:], \\\n",
    "        target_scaled[:train_test_split[0]], target_scaled[train_test_split[0]:]\n",
    "\n",
    "    data_TS = DatasetDict({\n",
    "        'train': Dataset.from_dict({'text_outputs': train_target_symbolic, 'text_inputs': train_data_symbolic}),\n",
    "        'val': Dataset.from_dict({'text_outputs': test_target_symbolic, 'text_inputs': test_data_symbolic})\n",
    "    })\n",
    "\n",
    "    \n",
    "elif task_tpye == \"forecasting\":\n",
    "\n",
    "#     qabba = JABBA(tol=0.000037, init='agg', alpha=0.000037, scl=3, verbose=0)  #  MinMaxScaler\n",
    "    #     qabba = JABBA(tol=0.0001117541, init='agg', alpha=0.0001117541, scl=3, verbose=0)\n",
    "    #     qabba = JABBA(tol=0.0000408066, init='agg', alpha=0.0000408066, scl=3, verbose=0)  #  StandardScaler -> ETTh1  len=24\n",
    "    #     qabba = JABBA(tol=0.000040838, init='agg', alpha=0.000040838, scl=3, verbose=0)  #  StandardScaler -> ETTh1  len=96\n",
    "    # qabba = JABBA(tol=0.000040838, init='agg', alpha=0.000040838, scl=3,\n",
    "    #               verbose=0)  # StandardScaler -> ETTh1  len=168\n",
    "    qabba = JABBA(tol=0.01, init='agg', alpha=0.01, scl=3, verbose=0)  #  StandardScaler -> ETTh1  len=168\n",
    "    \n",
    "    # Initialize the StandardScaler\n",
    "    scaler = StandardScaler()\n",
    "\n",
    "    #############################################  Train Data  #############################################\n",
    "    train_data = df_data[border1s[0]:border2s[0]]\n",
    "    scaler.fit(train_data.values)\n",
    "    train_data_transformed = scaler.transform(train_data)\n",
    "\n",
    "    X_Train_data_patch = np.zeros([train_data_transformed.shape[0] - (seq_len_pre + seq_len_post), seq_len_pre, train_data_transformed.shape[1]], dtype=float)\n",
    "    Y_Train_data_patch = np.zeros([train_data_transformed.shape[0] - (seq_len_pre + seq_len_post), seq_len_post, train_data_transformed.shape[1]], dtype=float)\n",
    "    for i_data_patch in range(train_data_transformed.shape[0] - (seq_len_pre + seq_len_post)):\n",
    "        X_Train_data_patch[i_data_patch, :, :] = train_data_transformed[i_data_patch:i_data_patch + seq_len_pre, :]\n",
    "        Y_Train_data_patch[i_data_patch, :, :] = train_data_transformed[i_data_patch + seq_len_pre:i_data_patch + seq_len_pre + seq_len_post, :]\n",
    "\n",
    "    symbols_train_data = []\n",
    "    symbols_train_data = qabba.fit_transform(X_Train_data_patch, alphabet_set=vocab_list, llm_split='Pre')\n",
    "    reconstruction_train_data = qabba.inverse_transform(symbols_train_data)\n",
    "    train_data_same_shape = qabba.recast_shape(reconstruction_train_data)  # recast into original shape\n",
    "\n",
    "    symbols_train_target = []\n",
    "    symbols_train_target, params_train_target = qabba.transform(Y_Train_data_patch, llm_split='Post')\n",
    "    reconstruction_train_target = qabba.inverse_transform(symbols_train_target, params_train_target)\n",
    "    train_target_same_shape = qabba.recast_shape(reconstruction_train_target, recap_shape=Y_Train_data_patch.shape)  # recast into original shape\n",
    "\n",
    "    print('##############################################################')\n",
    "    print(\"The length of used symbols is:\" + str(qabba.parameters.centers.shape[0]))\n",
    "\n",
    "    train_data_symbolic = []\n",
    "    for i_data in range(len(symbols_train_data)):\n",
    "        train_data_symbolic.append(listToString(list(symbols_train_data[i_data])))\n",
    "\n",
    "    train_target_symbolic = []\n",
    "    for i_data in range(len(symbols_train_target)):\n",
    "        train_target_symbolic.append(listToString(list(symbols_train_target[i_data])))\n",
    "\n",
    "    arranged_seq = np.random.randint(len(train_data_symbolic), size=int(len(train_data_symbolic) * 0.2))\n",
    "\n",
    "    val_data_symbolic = [train_data_symbolic[index] for index in arranged_seq]\n",
    "    val_target_symbolic = [train_target_symbolic[index] for index in arranged_seq]\n",
    "\n",
    "\n",
    "    data_TS = DatasetDict({\n",
    "        'train': Dataset.from_dict({'text_outputs': train_target_symbolic, 'text_inputs': train_data_symbolic}),\n",
    "        'val': Dataset.from_dict({'text_outputs': val_target_symbolic, 'text_inputs': val_data_symbolic}),\n",
    "    })\n",
    "\n",
    "    print('#############################  END  #################################')\n",
    "    \n",
    "    from sklearn.metrics import mean_squared_error, mean_absolute_error\n",
    "\n",
    "    train_length = 1\n",
    "\n",
    "    Y_recons_all = np.zeros(([train_length, 7 * seq_len_post]), dtype=float)\n",
    "    Y_true_all = np.zeros(([train_length, 7 * seq_len_post]), dtype=float)\n",
    "\n",
    "    for i_reconst in range(train_length):\n",
    "\n",
    "\n",
    "        Y_true_pre = scaler.inverse_transform(X_Train_data_patch[i_reconst, :, :])\n",
    "        Y_true_post = scaler.inverse_transform(Y_Train_data_patch[i_reconst, :, :])\n",
    "\n",
    "        Y_recons_pre = scaler.inverse_transform(train_data_same_shape[i_reconst, :, :])\n",
    "        Y_recons_post = scaler.inverse_transform(train_target_same_shape[i_reconst, :, :])\n",
    "\n",
    "    #     Y_recons = scaler.inverse_transform(train_reconst_same_shape[i_reconst, :, :])\n",
    "    #     Y_true = scaler.inverse_transform(np.transpose(data_patch[i_reconst, :, :]))\n",
    "\n",
    "\n",
    "    #     for i_plot in range(data.shape[1]):\n",
    "        for i_plot in range(7):\n",
    "    #         plt.subplot(1, 7, i_plot+1)\n",
    "\n",
    "            plt.plot(np.concatenate((Y_true_pre[:, i_plot], Y_true_post[:, i_plot]), axis=0), label='Ground Truth')\n",
    "            plt.plot(np.concatenate((Y_recons_pre[:, i_plot], Y_recons_post[:, i_plot]), axis=0), label='Reconstruction')\n",
    "\n",
    "            Cross_Correlation = cross_correlation(np.concatenate((Y_true_pre[:, i_plot], Y_true_post[:, i_plot]), axis=0),np.concatenate((Y_recons_pre[:, i_plot], Y_recons_post[:, i_plot]), axis=0))\n",
    "            plt.rcParams.update({'font.size': 20})\n",
    "            plt.title('Cross Correlation: ' + str(\"{:.3}\".format(Cross_Correlation)), fontsize=20)\n",
    "            plt.xlabel('Inout Length', fontsize=20)\n",
    "            plt.ylabel('Feature ' + str(i_plot+1), fontsize=20)\n",
    "\n",
    "            plt.legend()\n",
    "            plt.grid(True, axis='y')\n",
    "            plt.tight_layout()\n",
    "    #         plt.savefig('Compression_Reproduction_img_S' + str(i_reconst) + '_Feature' + str(i_plot) + '.jpg')\n",
    "            plt.show()\n",
    "            plt.close()\n",
    "\n",
    "        Y_recons = np.reshape(Y_recons_post, (1, 7 * seq_len_post))\n",
    "        Y_true = np.reshape(Y_true_post, (1, 7 * seq_len_post))\n",
    "\n",
    "\n",
    "        Y_true_all[i_reconst, :] = Y_true\n",
    "        Y_recons_all[i_reconst, :] = Y_recons\n",
    "\n",
    "    print('###############################') \n",
    "    print(mean_squared_error(Y_true_all, Y_recons_all))\n",
    "    print(mean_absolute_error(Y_true_all, Y_recons_all))\n",
    "    \n",
    "    \n",
    "#     output_scaler = open(str(model_name + \"_\" + data_name + \"-Scaler_Pre\" + \"_save.pkl\"), 'wb')\n",
    "#     output_jabba = open(str(model_name + \"_\" + data_name + \"-ABBA_Pre\" + \"_save.pkl\"), 'wb')\n",
    "\n",
    "#     str1 = pickle.dumps(scaler)\n",
    "#     output_scaler.write(str1)\n",
    "#     output_scaler.close()\n",
    "\n",
    "#     str2 = pickle.dumps(qabba)\n",
    "#     output_jabba.write(str2)\n",
    "#     output_jabba.close()\n",
    "\n",
    "\n",
    "else:\n",
    "    print(\"No data here!\")\n",
    "\n",
    "    \n",
    "    \n",
    "\n"
   ]
  },
  {
   "metadata": {},
   "cell_type": "code",
   "outputs": [
    {
     "name": "stdout",
     "output_type": "stream",
     "text": [
      "32000\n"
     ]
    }
   ],
   "execution_count": 9,
   "source": [
    "\n",
    "MAX_LENGTH = 512\n",
    "batch_size = 4\n",
    "\n",
    "## Loading Alphabet Set:  you can set vocab_list = pretrained tokens or nothing\n",
    "model_tokenizer = AutoTokenizer.from_pretrained(\n",
    "    model_name,\n",
    "    model_max_length=MAX_LENGTH,\n",
    "    padding_side=\"right\",\n",
    "    truncation=True,\n",
    "    add_eos_token=True)\n",
    "\n",
    "model_tokenizer.padding_side = 'right'\n",
    "model_tokenizer.pad_token = model_tokenizer.eos_token\n",
    "print(len(model_tokenizer))\n",
    "\n",
    "mistral_vocab = model_tokenizer.get_vocab()\n",
    "vocab_list = list(mistral_vocab.keys())\n"
   ]
  },
  {
   "metadata": {},
   "cell_type": "code",
   "outputs": [],
   "execution_count": null,
   "source": ""
  },
  {
   "metadata": {
    "id": "QcE4NTeFyRgd"
   },
   "cell_type": "markdown",
   "source": [
    "## 3. Processig the Time Series: Scaler and ABBA\n",
    "\n",
    "First, the ABBA method is used to symbolic approximate the time series;\n",
    "Second, reconstruct the transformed symbols back to numerical series;\n",
    "Third, optimize the hyperparameters of ABBA."
   ]
  },
  {
   "metadata": {
    "id": "FCc64bfnmd3j"
   },
   "cell_type": "markdown",
   "source": "### 3.1 Symbolic Approximating on Time Series"
  },
  {
   "cell_type": "code",
   "execution_count": null,
   "metadata": {},
   "outputs": [],
   "source": []
  },
  {
   "cell_type": "markdown",
   "metadata": {
    "id": "shz8Xdv-yRgf"
   },
   "source": [
    "### 3.2 Loading Base LLM and QLoRA block"
   ]
  },
  {
   "cell_type": "markdown",
   "metadata": {},
   "source": [
    "Set up the Accelerator. I'm not sure if we really need this for a QLoRA given its [description](https://huggingface.co/docs/accelerate/v0.19.0/en/usage_guides/fsdp) (I have to read more about it) but it seems it can't hurt, and it's helpful to have the code for future reference. You can always comment out the accelerator if you want to try without."
   ]
  },
  {
   "cell_type": "code",
   "execution_count": 11,
   "metadata": {},
   "outputs": [
    {
     "name": "stderr",
     "output_type": "stream",
     "text": [
      "Detected kernel version 4.18.0, which is below the recommended minimum of 5.5.0; this can cause the process to hang. It is recommended to upgrade the kernel to the minimum version or higher.\n"
     ]
    }
   ],
   "source": [
    "from accelerate import FullyShardedDataParallelPlugin, Accelerator\n",
    "from torch.distributed.fsdp.fully_sharded_data_parallel import FullOptimStateDictConfig, FullStateDictConfig\n",
    "\n",
    "fsdp_plugin = FullyShardedDataParallelPlugin(\n",
    "    state_dict_config=FullStateDictConfig(offload_to_cpu=True, rank0_only=False),\n",
    "    optim_state_dict_config=FullOptimStateDictConfig(offload_to_cpu=True, rank0_only=False),\n",
    ")\n",
    "\n",
    "accelerator = Accelerator(fsdp_plugin=fsdp_plugin)"
   ]
  },
  {
   "cell_type": "markdown",
   "metadata": {
    "id": "MJ-5idQwzvg-"
   },
   "source": [
    "Let's now load Mistral - `mistralai/Mistral-7B-v0.1` - using 4-bit quantization!"
   ]
  },
  {
   "cell_type": "code",
   "execution_count": 12,
   "metadata": {},
   "outputs": [
    {
     "data": {
      "application/vnd.jupyter.widget-view+json": {
       "model_id": "d513a05950c341bbaa95d55463274821",
       "version_major": 2,
       "version_minor": 0
      },
      "text/plain": [
       "Loading checkpoint shards:   0%|          | 0/2 [00:00<?, ?it/s]"
      ]
     },
     "metadata": {},
     "output_type": "display_data"
    }
   ],
   "source": [
    "##  Quantization Coonfig\n",
    "quantization_config = BitsAndBytesConfig(\n",
    "    # Load the model with 4-bit quantization\n",
    "    load_in_4bit=True,\n",
    "    # Use double quantization\n",
    "    bnb_4bit_use_double_quant=True,\n",
    "    # Use 4-bit Normal Float for storing the base model weights in GPU memory\n",
    "    bnb_4bit_quant_type=\"nf4\",\n",
    "    # De-quantize the weights to 16-bit (Brain) float before the forward/backward pass\n",
    "    bnb_4bit_compute_dtype=torch.bfloat16,\n",
    ")\n",
    "\n",
    "\n",
    "model_checkpoint = model_name\n",
    "model_tokenizer = AutoTokenizer.from_pretrained(model_checkpoint, add_prefix_space=True)\n",
    "model_tokenizer.pad_token_id = model_tokenizer.eos_token_id\n",
    "model_tokenizer.pad_token = model_tokenizer.eos_token\n",
    "\n",
    "model_input = AutoModelForCausalLM.from_pretrained(\n",
    "    pretrained_model_name_or_path=model_checkpoint,\n",
    "    quantization_config=quantization_config,\n",
    "    device_map=\"auto\"\n",
    ")\n",
    "\n",
    "# Data collator for padding a batch of examples to the maximum length seen in the batch\n",
    "model_data_collator = DataCollatorWithPadding(tokenizer=model_tokenizer)\n",
    "\n",
    "model_input.config.pad_token_id = model_input.config.eos_token_id\n",
    "model_input = prepare_model_for_kbit_training(model_input)\n",
    "\n"
   ]
  },
  {
   "cell_type": "markdown",
   "metadata": {},
   "source": [
    "Let's load LoRA using 4-bit quantization!"
   ]
  },
  {
   "cell_type": "code",
   "execution_count": 13,
   "metadata": {},
   "outputs": [
    {
     "name": "stdout",
     "output_type": "stream",
     "text": [
      "trainable params: 173,592,576 || all params: 7,415,324,672 || trainable%: 2.3410\n",
      "##############################################################\n",
      "The length of vocabulary list is:32000\n"
     ]
    }
   ],
   "source": [
    "from peft import LoraConfig, get_peft_model\n",
    "\n",
    "mistral_lora_config = LoraConfig(\n",
    "    task_type=TaskType.SEQ_CLS,\n",
    "    r=lora_r,  # the dimension of the low-rank matrices\n",
    "    lora_alpha=lora_alpha,  # scaling factor for LoRA activations vs pre-trained weight activations\n",
    "    target_modules=target_modules,\n",
    "    lora_dropout=lora_dropout,  # dropout probability of the LoRA layers\n",
    "    bias='none',  # wether to train bias weights, set to 'none' for attention layers\n",
    "    modules_to_save=modules_to_save,\n",
    ")\n",
    " \n",
    "    \n",
    "model_input = get_peft_model(model_input, mistral_lora_config)\n",
    "# Apply the accelerator. You can comment this out to remove the accelerator.\n",
    "model_input = accelerator.prepare_model(model_input)\n",
    "\n",
    "\n",
    "model_input.print_trainable_parameters()\n",
    "model_input = model_input.cuda()\n",
    "\n",
    "mistral_vocab = model_tokenizer.get_vocab()\n",
    "vocab_list = list(mistral_vocab.keys())\n",
    "\n",
    "print('##############################################################')\n",
    "print(\"The length of vocabulary list is:\" + str(len(vocab_list)))\n",
    "\n",
    "vocab_list_new = []\n",
    "for i_vac in vocab_list:\n",
    "    if '▁' in i_vac:\n",
    "        vocab_list_new.append(i_vac.replace('▁', ''))\n",
    "    else:\n",
    "        vocab_list_new.append(i_vac)\n",
    "\n",
    "\n",
    "# ##################################################################\n",
    "\n",
    "# alphabets_list_used = qabba.parameters.alphabets\n",
    "\n",
    "# added_tokens = []\n",
    "# for i_add_tokens in range(len(alphabets_list_used)):\n",
    "#     if alphabets_list_used[i_add_tokens] not in vocab_list:\n",
    "#         print(alphabets_list_used[i_add_tokens])\n",
    "#         added_tokens.append(alphabets_list_used[i_add_tokens])\n",
    "# #         model_tokenizer.add_special_tokens(alphabets_list_used[i_add_tokens])\n",
    "\n",
    "# model_tokenizer.add_special_tokens({'additional_special_tokens': added_tokens})\n",
    "\n"
   ]
  },
  {
   "cell_type": "code",
   "execution_count": null,
   "metadata": {},
   "outputs": [],
   "source": []
  },
  {
   "cell_type": "markdown",
   "metadata": {
    "id": "UjNdXolqyRgf"
   },
   "source": [
    "### 3.3 Tokenization of Input Time Series\n",
    "\n",
    "Set up the tokenizer. Add padding on the left as it [makes training use less memory](https://ai.stackexchange.com/questions/41485/while-fine-tuning-a-decoder-only-llm-like-llama-on-chat-dataset-what-kind-of-pa).\n"
   ]
  },
  {
   "cell_type": "markdown",
   "metadata": {
    "id": "WLvc85zDyRgg"
   },
   "source": [
    "Setup the tokenize function to make labels and input_ids the same. This is basically what [self-supervised fine-tuning is](https://neptune.ai/blog/self-supervised-learning):"
   ]
  },
  {
   "cell_type": "markdown",
   "metadata": {
    "id": "tJtsbrr6yRgg"
   },
   "source": [
    "And convert each sample into a prompt that I found from [this notebook](https://github.com/samlhuillier/viggo-finetune/blob/main/llama/fine-tune-code-llama.ipynb)."
   ]
  },
  {
   "cell_type": "code",
   "execution_count": null,
   "metadata": {
    "execution": {
     "iopub.execute_input": "2024-03-25T23:30:16.222655Z",
     "iopub.status.busy": "2024-03-25T23:30:16.221989Z",
     "iopub.status.idle": "2024-03-25T23:30:16.229654Z",
     "shell.execute_reply": "2024-03-25T23:30:16.228782Z",
     "shell.execute_reply.started": "2024-03-25T23:30:16.222624Z"
    },
    "id": "6z9rvnoDyRgg"
   },
   "outputs": [],
   "source": []
  },
  {
   "cell_type": "markdown",
   "metadata": {
    "id": "TQL796OayRgh"
   },
   "source": [
    "Check that `input_ids` is padded on the left with the `eos_token` (2) and there is an `eos_token` 2 added to the end, and the prompt starts with a `bos_token` (1).\n"
   ]
  },
  {
   "cell_type": "markdown",
   "metadata": {
    "id": "nBk4Qp_vyRgh"
   },
   "source": [
    "Check that a sample has the max length, i.e. 512."
   ]
  },
  {
   "cell_type": "code",
   "execution_count": 14,
   "metadata": {},
   "outputs": [],
   "source": [
    "def tokenize(prompt):\n",
    "\n",
    "    result = model_tokenizer(\n",
    "        prompt,\n",
    "        truncation=True,\n",
    "        max_length=MAX_LENGTH,\n",
    "        padding=\"max_length\",\n",
    "    )\n",
    "    result[\"labels\"] = result[\"input_ids\"].copy()\n",
    "\n",
    "    return result\n",
    "\n",
    "if task_tpye == \"classification\":\n",
    "\n",
    "    if data_name == 'eeg-eye-state':\n",
    "        \n",
    "        project = \"QABBA-\" + data_name\n",
    "        run_name = model_name + \"-\" + project + \"-r-\" + str(lora_r)\n",
    "        ###############   EEG Eye State data   ###############\n",
    "        def generate_and_tokenize_prompt(data_point):\n",
    "            full_prompt = f\"\"\"This is a classification task. Identify the \"Eye State\" according to the given \"Symbolic Series\".\n",
    "\n",
    "            ### Symbolic Series: {data_point[\"text_inputs\"]}\n",
    "\n",
    "            ### Eye State: {data_point[\"text_outputs\"]}\n",
    "\n",
    "            \"\"\"\n",
    "            return tokenize(full_prompt)\n",
    "\n",
    "\n",
    "    elif data_name == 'ptbdb':\n",
    "        ###############   PTB-DB data   ###############\n",
    "        def generate_and_tokenize_prompt(data_point):\n",
    "            full_prompt = f\"\"\"This is a classification task. Identify the \"ECG Abnormality\" according to the given \"Symbolic Series\".\n",
    "\n",
    "            ### Symbolic Series: {data_point[\"text_inputs\"]}\n",
    "\n",
    "            ### ECG Abnormality: {data_point[\"text_outputs\"]}\n",
    "\n",
    "            \"\"\"\n",
    "            return tokenize(full_prompt)\n",
    "\n",
    "\n",
    "\n",
    "    elif data_name == 'fnirs':\n",
    "        ###############   fnirs data   ###############\n",
    "        def generate_and_tokenize_prompt(data_point):\n",
    "            full_prompt = f\"\"\"This is a classification task. Identify the \"Working Memory State\" according to the given \"Symbolic Series\".\n",
    "\n",
    "            ### Symbolic Series: {data_point[\"text_inputs\"]}\n",
    "\n",
    "            ### Working Memory State: {data_point[\"text_outputs\"]}\n",
    "\n",
    "            \"\"\"\n",
    "            return tokenize(full_prompt)\n",
    "\n",
    "\n",
    "    elif data_name == 'mitbih':\n",
    "        ###############   MIT-BIH data   ###############\n",
    "        def generate_and_tokenize_prompt(data_point):\n",
    "            full_prompt = f\"\"\"This is a classification task. Identify the \"Working Memory State\" according to the given \"Symbolic Series\".\n",
    "\n",
    "            ### Symbolic Series: {data_point[\"text_inputs\"]}\n",
    "\n",
    "            ### Working Memory State: {data_point[\"text_outputs\"]}\n",
    "\n",
    "            \"\"\"\n",
    "            return tokenize(full_prompt)\n",
    "\n",
    "\n",
    "\n",
    "elif task_tpye == \"regression\":\n",
    "     \n",
    "    project = \"QABBA-\" + data_name\n",
    "    run_name = model_name + \"-\" + project + \"-r-\" + str(lora_r)\n",
    "    ###############   Monash Regression data   ###############\n",
    "    def generate_and_tokenize_prompt(data_point):\n",
    "        full_prompt = f\"\"\"This is a regression task. Predicting the \"Results\" according to the given \"Symbolic Series\".\n",
    "\n",
    "        ### Symbolic Series: {data_point[\"text_inputs\"]}\n",
    "\n",
    "        ### Results: {data_point[\"text_outputs\"]}\n",
    "\n",
    "        \"\"\"\n",
    "        return tokenize(full_prompt)\n",
    "\n",
    "\n",
    "elif task_tpye == \"forecasting\":\n",
    "    \n",
    "    project = \"QABBA-\" + data_name\n",
    "    run_name = model_name + \"-\" + project + \"-r-\" + str(lora_r)\n",
    "    ###############   ETT Forecasting data   ###############\n",
    "    def generate_and_tokenize_prompt(data_point):\n",
    "        full_prompt = f\"\"\"This is a forecasting task. Forecasting the \"Results\" according to the given \"Symbolic Series\".\n",
    "\n",
    "        ### Symbolic Series: {data_point[\"text_inputs\"]}\n",
    "\n",
    "        ### Results: {data_point[\"text_outputs\"]}\n",
    "\n",
    "        \"\"\"\n",
    "        return tokenize(full_prompt)\n",
    "\n",
    "\n",
    "else:\n",
    "    print(\"No data here!\")\n"
   ]
  },
  {
   "cell_type": "code",
   "execution_count": null,
   "metadata": {},
   "outputs": [],
   "source": []
  },
  {
   "cell_type": "code",
   "execution_count": 15,
   "metadata": {},
   "outputs": [
    {
     "data": {
      "application/vnd.jupyter.widget-view+json": {
       "model_id": "443b79a31954471e9518b0ed941fe189",
       "version_major": 2,
       "version_minor": 0
      },
      "text/plain": [
       "Map:   0%|          | 0/8304 [00:00<?, ? examples/s]"
      ]
     },
     "metadata": {},
     "output_type": "display_data"
    },
    {
     "data": {
      "application/vnd.jupyter.widget-view+json": {
       "model_id": "53190327694c48398c246fc8f21db8cc",
       "version_major": 2,
       "version_minor": 0
      },
      "text/plain": [
       "Map:   0%|          | 0/1660 [00:00<?, ? examples/s]"
      ]
     },
     "metadata": {},
     "output_type": "display_data"
    }
   ],
   "source": [
    "\n",
    "# def tokenize(data_point):\n",
    "#     model_inputs  = model_tokenizer(\n",
    "#         data_point[\"text_inputs\"],\n",
    "#         truncation=True,\n",
    "#         padding='max_length',\n",
    "#         max_length=MAX_LENGTH,\n",
    "#     )\n",
    "    \n",
    "#     result  = model_tokenizer(\n",
    "#         data_point[\"text_outputs\"],\n",
    "#         truncation=True,\n",
    "#         padding='max_length',\n",
    "#         max_length=MAX_LENGTH,\n",
    "#     )\n",
    "    \n",
    "#     model_inputs [\"labels\"] = result[\"input_ids\"].copy()\n",
    "#     return model_inputs\n",
    "\n",
    "# #     result[\"labels\"] = result[\"input_ids\"].copy()\n",
    "# #     return result\n",
    "\n",
    "\n",
    "\n",
    "# tokenized_train_dataset = data_TS['train'].map(generate_and_tokenize_prompt, batched=True)\n",
    "# tokenized_val_dataset = data_TS['val'].map(generate_and_tokenize_prompt, batched=True)\n",
    "\n",
    "tokenized_train_dataset = data_TS['train'].map(generate_and_tokenize_prompt)\n",
    "tokenized_val_dataset = data_TS['val'].map(generate_and_tokenize_prompt)\n",
    "\n",
    "tokenized_train_dataset.set_format(\"torch\")\n",
    "tokenized_val_dataset.set_format(\"torch\")\n",
    "\n",
    "model_data_collator = DataCollatorWithPadding(tokenizer=model_tokenizer)\n"
   ]
  },
  {
   "cell_type": "code",
   "execution_count": 16,
   "metadata": {},
   "outputs": [
    {
     "data": {
      "text/plain": [
       "16"
      ]
     },
     "execution_count": 16,
     "metadata": {},
     "output_type": "execute_result"
    }
   ],
   "source": [
    "lora_r"
   ]
  },
  {
   "cell_type": "markdown",
   "metadata": {
    "id": "dCAWeCzZyRgi"
   },
   "source": [
    "We can see it doesn't do very well out of the box."
   ]
  },
  {
   "cell_type": "markdown",
   "metadata": {
    "id": "Mp2gMi1ZzGET"
   },
   "source": [
    "Now, to start our fine-tuning, we have to apply some preprocessing to the model to prepare it for training. For that use the `prepare_model_for_kbit_training` method from PEFT."
   ]
  },
  {
   "cell_type": "markdown",
   "metadata": {
    "id": "cUYEpEK-yRgj"
   },
   "source": [
    "Let's print the model to examine its layers, as we will apply QLoRA to all the linear layers of the model. Those layers are `q_proj`, `k_proj`, `v_proj`, `o_proj`, `gate_proj`, `up_proj`, `down_proj`, and `lm_head`."
   ]
  },
  {
   "cell_type": "markdown",
   "metadata": {
    "id": "I6mTLuQJyRgj"
   },
   "source": [
    "Here we define the LoRA config.\n",
    "\n",
    "`r` is the rank of the low-rank matrix used in the adapters, which thus controls the number of parameters trained. A higher rank will allow for more expressivity, but there is a compute tradeoff.\n",
    "\n",
    "`alpha` is the scaling factor for the learned weights. The weight matrix is scaled by `alpha/r`, and thus a higher value for `alpha` assigns more weight to the LoRA activations.\n",
    "\n",
    "The values used in the QLoRA paper were `r=64` and `lora_alpha=16`, and these are said to generalize well, but we will use `r=8` and `lora_alpha=16` so that we have more emphasis on the new fine-tuned data while also reducing computational complexity."
   ]
  },
  {
   "cell_type": "code",
   "execution_count": null,
   "metadata": {
    "execution": {
     "iopub.execute_input": "2024-03-25T23:33:26.953613Z",
     "iopub.status.busy": "2024-03-25T23:33:26.953169Z",
     "iopub.status.idle": "2024-03-25T23:33:27.482969Z",
     "shell.execute_reply": "2024-03-25T23:33:27.482074Z",
     "shell.execute_reply.started": "2024-03-25T23:33:26.953584Z"
    },
    "id": "Ybeyl20n3dYH"
   },
   "outputs": [],
   "source": []
  },
  {
   "cell_type": "markdown",
   "metadata": {
    "id": "X_FHi_VLyRgn"
   },
   "source": [
    "See how the model looks different now, with the LoRA adapters added:"
   ]
  },
  {
   "cell_type": "markdown",
   "metadata": {
    "id": "-9KNTJZkyRgn"
   },
   "source": [
    "\n",
    "Let's use Weights & Biases to track our training metrics. You'll need to apply an API key when prompted. Feel free to skip this if you'd like, and just comment out the `wandb` parameters in the `Trainer` definition below."
   ]
  },
  {
   "cell_type": "code",
   "execution_count": 17,
   "metadata": {
    "id": "DDqUNyIoyRgo"
   },
   "outputs": [],
   "source": [
    "# !pip install -q wandb -U\n",
    "\n",
    "# import wandb, os\n",
    "# wandb.login()\n",
    "\n",
    "# wandb_project = \"viggo-finetune\"\n",
    "# if len(wandb_project) > 0:\n",
    "#     os.environ[\"WANDB_PROJECT\"] = wandb_project"
   ]
  },
  {
   "cell_type": "markdown",
   "metadata": {
    "id": "_0MOtwf3zdZp"
   },
   "source": [
    "## 4. Run Training!"
   ]
  },
  {
   "cell_type": "markdown",
   "metadata": {
    "id": "fEe0uWYSyRgo"
   },
   "source": [
    "I used 500 steps, but I found the model should have trained for longer as it had not converged by then, so I upped the steps to 1000 below.\n",
    "\n",
    "A note on training. You can set the `max_steps` to be high initially, and examine at what step your model's performance starts to degrade. There is where you'll find a sweet spot for how many steps to perform. For example, say you start with 1000 steps, and find that at around 500 steps the model starts overfitting - the validation loss goes up (bad) while the training loss goes down significantly, meaning the model is learning the training set really well, but is unable to generalize to new datapoints. Therefore, 500 steps would be your sweet spot, so you would use the `checkpoint-500` model repo in your output dir (`mistral-finetune-viggo`) as your final model in step 6 below.\n",
    "\n",
    "You can interrupt the process via Kernel -> Interrupt Kernel in the top nav bar once you realize you didn't need to train anymore."
   ]
  },
  {
   "cell_type": "code",
   "execution_count": 18,
   "metadata": {
    "execution": {
     "iopub.execute_input": "2024-03-25T23:33:52.0053Z",
     "iopub.status.busy": "2024-03-25T23:33:52.004388Z",
     "iopub.status.idle": "2024-03-25T23:33:52.0098Z",
     "shell.execute_reply": "2024-03-25T23:33:52.008836Z",
     "shell.execute_reply.started": "2024-03-25T23:33:52.005264Z"
    },
    "id": "c_L1131GyRgo"
   },
   "outputs": [],
   "source": [
    "if torch.cuda.device_count() > 1: # If more than 1 GPU\n",
    "    model.is_parallelizable = True\n",
    "    model.model_parallel = True"
   ]
  },
  {
   "cell_type": "code",
   "execution_count": 19,
   "metadata": {
    "execution": {
     "iopub.execute_input": "2024-03-25T23:37:15.025758Z",
     "iopub.status.busy": "2024-03-25T23:37:15.024942Z"
    },
    "id": "jq0nX33BmfaC",
    "scrolled": true
   },
   "outputs": [
    {
     "name": "stderr",
     "output_type": "stream",
     "text": [
      "Detected kernel version 4.18.0, which is below the recommended minimum of 5.5.0; this can cause the process to hang. It is recommended to upgrade the kernel to the minimum version or higher.\n",
      "Failed to detect the name of this notebook, you can set it manually with the WANDB_NOTEBOOK_NAME environment variable to enable code saving.\n",
      "\u001B[34m\u001B[1mwandb\u001B[0m: Currently logged in as: \u001B[33mchengkang520\u001B[0m (\u001B[33mcheng_nlp\u001B[0m). Use \u001B[1m`wandb login --relogin`\u001B[0m to force relogin\n"
     ]
    },
    {
     "data": {
      "text/html": [
       "wandb version 0.19.4 is available!  To upgrade, please run:\n",
       " $ pip install wandb --upgrade"
      ],
      "text/plain": [
       "<IPython.core.display.HTML object>"
      ]
     },
     "metadata": {},
     "output_type": "display_data"
    },
    {
     "data": {
      "text/html": [
       "Tracking run with wandb version 0.16.3"
      ],
      "text/plain": [
       "<IPython.core.display.HTML object>"
      ]
     },
     "metadata": {},
     "output_type": "display_data"
    },
    {
     "data": {
      "text/html": [
       "Run data is saved locally in <code>/home/kangchen/QABBA-ECE/wandb/run-20250121_144919-hu7o3xrm</code>"
      ],
      "text/plain": [
       "<IPython.core.display.HTML object>"
      ]
     },
     "metadata": {},
     "output_type": "display_data"
    },
    {
     "data": {
      "text/html": [
       "Syncing run <strong><a href='https://wandb.ai/cheng_nlp/huggingface/runs/hu7o3xrm' target=\"_blank\">mistralai/Mistral-7B-Instruct-v0.1-QABBA-ETTh1-r-16-2025-01-21-14-48</a></strong> to <a href='https://wandb.ai/cheng_nlp/huggingface' target=\"_blank\">Weights & Biases</a> (<a href='https://wandb.me/run' target=\"_blank\">docs</a>)<br/>"
      ],
      "text/plain": [
       "<IPython.core.display.HTML object>"
      ]
     },
     "metadata": {},
     "output_type": "display_data"
    },
    {
     "data": {
      "text/html": [
       " View project at <a href='https://wandb.ai/cheng_nlp/huggingface' target=\"_blank\">https://wandb.ai/cheng_nlp/huggingface</a>"
      ],
      "text/plain": [
       "<IPython.core.display.HTML object>"
      ]
     },
     "metadata": {},
     "output_type": "display_data"
    },
    {
     "data": {
      "text/html": [
       " View run at <a href='https://wandb.ai/cheng_nlp/huggingface/runs/hu7o3xrm' target=\"_blank\">https://wandb.ai/cheng_nlp/huggingface/runs/hu7o3xrm</a>"
      ],
      "text/plain": [
       "<IPython.core.display.HTML object>"
      ]
     },
     "metadata": {},
     "output_type": "display_data"
    },
    {
     "data": {
      "text/html": [
       "\n",
       "    <div>\n",
       "      \n",
       "      <progress value='519' max='519' style='width:300px; height:20px; vertical-align: middle;'></progress>\n",
       "      [519/519 3:22:57, Epoch 1/1]\n",
       "    </div>\n",
       "    <table border=\"1\" class=\"dataframe\">\n",
       "  <thead>\n",
       " <tr style=\"text-align: left;\">\n",
       "      <th>Epoch</th>\n",
       "      <th>Training Loss</th>\n",
       "      <th>Validation Loss</th>\n",
       "    </tr>\n",
       "  </thead>\n",
       "  <tbody>\n",
       "    <tr>\n",
       "      <td>1</td>\n",
       "      <td>0.827100</td>\n",
       "      <td>0.048659</td>\n",
       "    </tr>\n",
       "  </tbody>\n",
       "</table><p>"
      ],
      "text/plain": [
       "<IPython.core.display.HTML object>"
      ]
     },
     "metadata": {},
     "output_type": "display_data"
    },
    {
     "data": {
      "text/plain": [
       "TrainOutput(global_step=519, training_loss=0.8270562379576107, metrics={'train_runtime': 12208.8081, 'train_samples_per_second': 0.68, 'train_steps_per_second': 0.043, 'total_flos': 1.8247683778648474e+17, 'train_loss': 0.8270562379576107, 'epoch': 1.0})"
      ]
     },
     "execution_count": 19,
     "metadata": {},
     "output_type": "execute_result"
    }
   ],
   "source": [
    "import transformers\n",
    "from datetime import datetime\n",
    "\n",
    "output_dir = \"./\" + run_name\n",
    "\n",
    "num_epochs = 1\n",
    "\n",
    "trainer = transformers.Trainer(\n",
    "    model=model_input,\n",
    "    train_dataset=tokenized_train_dataset,\n",
    "    eval_dataset=tokenized_val_dataset,\n",
    "    args=transformers.TrainingArguments(\n",
    "        output_dir=output_dir,\n",
    "        warmup_steps=5,\n",
    "        per_device_train_batch_size=4,\n",
    "        gradient_checkpointing=True,\n",
    "        gradient_accumulation_steps=4,\n",
    "        learning_rate=2e-4, # Want about 10x smaller than the Mistral learning rate\n",
    "        bf16=False,\n",
    "        optim=\"paged_adamw_8bit\",\n",
    "        num_train_epochs=num_epochs,\n",
    "        weight_decay=0.00005,\n",
    "        evaluation_strategy=\"epoch\",\n",
    "        save_strategy=\"epoch\",\n",
    "        logging_strategy=\"epoch\",\n",
    "        logging_dir=\"./logs\",\n",
    "        load_best_model_at_end=True,\n",
    "        report_to=\"wandb\",\n",
    "        save_total_limit = 1,\n",
    "        do_eval=True,                # Perform evaluation at the end of training\n",
    "        #report_to=\"wandb\",           # Comment this out if you don't want to use weights & baises\n",
    "        run_name=f\"{run_name}-{datetime.now().strftime('%Y-%m-%d-%H-%M')}\"          # Name of the W&B run (optional)\n",
    "    ),\n",
    "    data_collator=transformers.DataCollatorForLanguageModeling(model_tokenizer, mlm=False),\n",
    ")\n",
    "\n",
    "model_input.config.use_cache = False  # silence the warnings. Please re-enable for inference!\n",
    "trainer.train()"
   ]
  },
  {
   "cell_type": "markdown",
   "metadata": {
    "id": "0D57XqcsyRgo"
   },
   "source": [
    "##  ******************** 5. Drum Roll... Try the Trained Model!  ******************** \n",
    "\n",
    "It's a good idea to kill the current process so that you don't run out of memory loading the base model again on top of the model we just trained. Go to `Kernel > Restart Kernel` or kill the process via the Terminal (`nvidia smi` > `kill [PID]`).\n",
    "\n",
    "By default, the PEFT library will only save the QLoRA adapters, so we need to first load the base Mistral model from the Huggingface Hub:\n"
   ]
  },
  {
   "cell_type": "code",
   "execution_count": 20,
   "metadata": {
    "id": "SKSnF016yRgp",
    "scrolled": true
   },
   "outputs": [
    {
     "data": {
      "application/vnd.jupyter.widget-view+json": {
       "model_id": "07088ace6898430b965709aa27f6a488",
       "version_major": 2,
       "version_minor": 0
      },
      "text/plain": [
       "Loading checkpoint shards:   0%|          | 0/2 [00:00<?, ?it/s]"
      ]
     },
     "metadata": {},
     "output_type": "display_data"
    },
    {
     "name": "stdout",
     "output_type": "stream",
     "text": [
      "32000\n"
     ]
    }
   ],
   "source": [
    "import torch\n",
    "from transformers import AutoTokenizer, AutoModelForCausalLM, BitsAndBytesConfig\n",
    "\n",
    "bnb_config = BitsAndBytesConfig(\n",
    "    load_in_4bit=True,\n",
    "    bnb_4bit_use_double_quant=True,\n",
    "    bnb_4bit_quant_type=\"nf4\",\n",
    "    bnb_4bit_compute_dtype=torch.bfloat16\n",
    ")\n",
    "\n",
    "model = AutoModelForCausalLM.from_pretrained(\n",
    "    model_name,  # Mistral, same as before\n",
    "    quantization_config=bnb_config,  # Same quantization config as before\n",
    "    device_map=\"auto\",\n",
    "    trust_remote_code=True,\n",
    ")\n",
    "\n",
    "model_tokenizer = AutoTokenizer.from_pretrained(\n",
    "    model_name,\n",
    "    model_max_length=MAX_LENGTH,\n",
    "    padding_side=\"right\",\n",
    "    truncation=True,\n",
    "    add_eos_token=True,\n",
    ")\n",
    "\n",
    "model_tokenizer.padding_side = 'right'\n",
    "model_tokenizer.pad_token = model_tokenizer.eos_token\n",
    "print(len(model_tokenizer))\n",
    "\n",
    "mistral_vocab = model_tokenizer.get_vocab()"
   ]
  },
  {
   "cell_type": "markdown",
   "metadata": {
    "id": "_BxOhAiqyRgp"
   },
   "source": [
    "Now load the QLoRA adapter from the appropriate checkpoint directory, i.e. the best performing model checkpoint:"
   ]
  },
  {
   "cell_type": "code",
   "execution_count": 21,
   "metadata": {
    "id": "GwsiqhWuyRgp"
   },
   "outputs": [],
   "source": [
    "from peft import PeftModel\n",
    "import os\n",
    "\n",
    "project = \"QABBA-\" + data_name\n",
    "run_name = model_name + \"-\" + project + \"-r-\" + str(lora_r)\n",
    "\n",
    "output_dir = \"./\" + run_name\n",
    "peft_file = os.listdir(output_dir)\n",
    "ft_model = PeftModel.from_pretrained(model, output_dir + \"/\" + peft_file[0])\n",
    "\n",
    "\n",
    "\n",
    "# ft_model = PeftModel.from_pretrained(model, 'llama2-7B-ts-finetune-ETTh1-r16-Pre168-Post168' + \"/\" + peft_file[0])\n"
   ]
  },
  {
   "cell_type": "code",
   "execution_count": 22,
   "metadata": {},
   "outputs": [
    {
     "data": {
      "text/plain": [
       "['checkpoint-519']"
      ]
     },
     "execution_count": 22,
     "metadata": {},
     "output_type": "execute_result"
    }
   ],
   "source": [
    "os.listdir(output_dir)"
   ]
  },
  {
   "cell_type": "markdown",
   "metadata": {
    "id": "lX39ibolyRgp"
   },
   "source": [
    "and run your inference!"
   ]
  },
  {
   "cell_type": "markdown",
   "metadata": {
    "id": "UUehsaVNyRgp"
   },
   "source": [
    "Let's try the same `eval_prompt` and thus `model_input` as above, and see if the new finetuned model performs better."
   ]
  },
  {
   "cell_type": "code",
   "execution_count": 23,
   "metadata": {},
   "outputs": [
    {
     "name": "stdout",
     "output_type": "stream",
     "text": [
      "Forecasting Tasks!\n"
     ]
    },
    {
     "ename": "NameError",
     "evalue": "name 'output_jabba' is not defined",
     "output_type": "error",
     "traceback": [
      "\u001B[0;31m---------------------------------------------------------------------------\u001B[0m",
      "\u001B[0;31mNameError\u001B[0m                                 Traceback (most recent call last)",
      "Cell \u001B[0;32mIn[23], line 61\u001B[0m\n\u001B[1;32m     58\u001B[0m \u001B[38;5;28mprint\u001B[39m(\u001B[38;5;124m\"\u001B[39m\u001B[38;5;124mForecasting Tasks!\u001B[39m\u001B[38;5;124m\"\u001B[39m)\n\u001B[1;32m     60\u001B[0m qabba_load \u001B[38;5;241m=\u001B[39m JABBA(tol\u001B[38;5;241m=\u001B[39mABBA_tol, init\u001B[38;5;241m=\u001B[39mABBA_init, alpha\u001B[38;5;241m=\u001B[39mABBA_alpha, scl\u001B[38;5;241m=\u001B[39m\u001B[38;5;241m3\u001B[39m, verbose\u001B[38;5;241m=\u001B[39m\u001B[38;5;241m1\u001B[39m)\n\u001B[0;32m---> 61\u001B[0m \u001B[38;5;28;01mwith\u001B[39;00m \u001B[38;5;28mopen\u001B[39m(\u001B[43moutput_jabba\u001B[49m, \u001B[38;5;124m'\u001B[39m\u001B[38;5;124mrb\u001B[39m\u001B[38;5;124m'\u001B[39m) \u001B[38;5;28;01mas\u001B[39;00m file:\n\u001B[1;32m     62\u001B[0m     qabba_load \u001B[38;5;241m=\u001B[39m pickle\u001B[38;5;241m.\u001B[39mloads(file\u001B[38;5;241m.\u001B[39mread())\n\u001B[1;32m     64\u001B[0m scaler_load \u001B[38;5;241m=\u001B[39m StandardScaler()\n",
      "\u001B[0;31mNameError\u001B[0m: name 'output_jabba' is not defined"
     ]
    }
   ],
   "source": [
    "\n",
    "\n",
    "if task_tpye == \"classification\":\n",
    "\n",
    "    print(\"Classification Tasks!\")\n",
    "\n",
    "        \n",
    "   # qabba_load = JABBA(tol=0.000040837, init='agg', alpha=0.000040837, scl=3, verbose=0)  #  StandardScaler -> ETTh1  len=168\n",
    "\n",
    "    # with open(\"llama2-7B_ETTh1-ABBA_Pre168_Post168_save.pkl\", 'rb') as file:\n",
    "    #     qabba_load = pickle.loads(file.read())\n",
    "\n",
    "    # scaler_load = StandardScaler()\n",
    "    # with open(\"llama2-7B_ETTh1-Scaler_Pre168_Post168_save.pkl\", 'rb') as file:\n",
    "    #     scaler_load = pickle.loads(file.read())\n",
    "\n",
    "\n",
    "    qabba_load = JABBA(tol=ABBA_tol, init=ABBA_init, alpha=ABBA_alpha, scl=3, verbose=1)\n",
    "    with open(output_jabba, 'rb') as file:\n",
    "        qabba_load = pickle.loads(file.read())\n",
    "\n",
    "    scaler_load = StandardScaler()\n",
    "    with open(output_scaler, 'rb') as file:\n",
    "        scaler_load = pickle.loads(file.read())\n",
    "\n",
    "\n",
    "elif task_tpye == \"regression\":\n",
    "     \n",
    "    print(\"Regression Tasks!\")\n",
    "\n",
    "       \n",
    "    for i_test in range(5):#range(len(data_TS['val']['text_inputs'])):\n",
    "        \n",
    "        eval_tokenizer = f\"\"\"This is a regression task. Predicting the \"Results\" according to the given \"Symbolic Series\".\n",
    "\n",
    "        ### Symbolic Series: {data_TS['val']['text_inputs'][i_test]}\n",
    "\n",
    "        ### Results:\n",
    "\n",
    "        \"\"\"\n",
    "        print('#######################################################################')\n",
    "        model_input_text = model_tokenizer(eval_tokenizer, return_tensors=\"pt\").to('cuda')\n",
    "\n",
    "        temp_out = model_tokenizer.decode(\n",
    "            ft_model.generate(\n",
    "                **model_input_text,\n",
    "                max_new_tokens=MAX_LENGTH,\n",
    "                max_length=MAX_LENGTH,\n",
    "                repetition_penalty=1.7,\n",
    "                temperature=0.0,\n",
    "            )[0],\n",
    "            skip_special_tokens=True\n",
    "        )\n",
    "        print(temp_out)      \n",
    "        \n",
    "        \n",
    "    \n",
    "elif task_tpye == \"forecasting\":\n",
    "    \n",
    "    print(\"Forecasting Tasks!\")\n",
    "    \n",
    "    qabba_load = JABBA(tol=ABBA_tol, init=ABBA_init, alpha=ABBA_alpha, scl=3, verbose=1)\n",
    "    with open(output_jabba, 'rb') as file:\n",
    "        qabba_load = pickle.loads(file.read())\n",
    "\n",
    "    scaler_load = StandardScaler()\n",
    "    with open(output_scaler, 'rb') as file:\n",
    "        scaler_load = pickle.loads(file.read())\n",
    "            \n",
    "\n",
    "    #############################################  Test Data  #############################################\n",
    "    test_data = df_data[border2s[0]:border2s[2]]\n",
    "    test_data_transformed = scaler_load.transform(test_data.values)\n",
    "\n",
    "\n",
    "    X_Test_data_patch = np.zeros([test_data_transformed.shape[0] - (seq_len_pre + seq_len_post), seq_len_pre, test_data_transformed.shape[1]], dtype=float)\n",
    "    Y_Test_data_patch = np.zeros([test_data_transformed.shape[0] - (seq_len_pre + seq_len_post), seq_len_post, test_data_transformed.shape[1]], dtype=float)\n",
    "    for i_data_patch in range(test_data_transformed.shape[0] - (seq_len_pre + seq_len_post)):\n",
    "        X_Test_data_patch[i_data_patch, :, :] = test_data_transformed[i_data_patch:i_data_patch + seq_len_pre, :]\n",
    "        Y_Test_data_patch[i_data_patch, :, :] = test_data_transformed[i_data_patch + seq_len_pre:i_data_patch + seq_len_pre + seq_len_post, :]\n",
    "\n",
    "    symbols_test_data = []\n",
    "    symbols_test_data, params_test_data = qabba_load.transform(X_Test_data_patch, llm_split='Post')\n",
    "    reconstruction_test_data = qabba_load.inverse_transform(symbols_test_data, params_test_data)\n",
    "    test_data_same_shape = qabba_load.recast_shape(reconstruction_test_data, recap_shape=X_Test_data_patch.shape, llm_split='Post')  # recast into original shape\n",
    "\n",
    "    symbols_test_target = []\n",
    "    symbols_test_target, params_test_target = qabba_load.transform(Y_Test_data_patch, llm_split='Post')\n",
    "    reconstruction_test_target = qabba_load.inverse_transform(symbols_test_target, params_test_target)\n",
    "    test_target_same_shape = qabba_load.recast_shape(reconstruction_test_target, recap_shape=Y_Test_data_patch.shape, llm_split='Post')  # recast into original shape\n",
    "\n",
    "    print('##############################################################')\n",
    "    print(\"The length of used symbols is:\" + str(qabba_load.parameters.centers.shape[0]))\n",
    "\n",
    "    test_data_symbolic = []\n",
    "    for i_data in range(len(symbols_test_data)):\n",
    "        test_data_symbolic.append(listToString(list(symbols_test_data[i_data])))\n",
    "\n",
    "    test_target_symbolic = []\n",
    "    for i_data in range(len(symbols_test_target)):\n",
    "        test_target_symbolic.append(listToString(list(symbols_test_target[i_data])))\n",
    "\n",
    "else:\n",
    "    print(\"No data here!\")\n"
   ]
  },
  {
   "cell_type": "code",
   "execution_count": null,
   "metadata": {},
   "outputs": [],
   "source": [
    "\n"
   ]
  },
  {
   "cell_type": "code",
   "execution_count": null,
   "metadata": {},
   "outputs": [],
   "source": [
    "\n",
    "from sklearn.metrics import mean_squared_error, mean_absolute_error\n",
    "\n",
    "test_length = 1\n",
    "\n",
    "Y_recons_all = np.zeros(([test_length, 7 * seq_len_post]), dtype=float)\n",
    "Y_true_all = np.zeros(([test_length, 7 * seq_len_post]), dtype=float)\n",
    "\n",
    "for i_reconst in range(test_length):\n",
    "    \n",
    "   \n",
    "    Y_true_pre = scaler_load.inverse_transform(X_Test_data_patch[i_reconst, :, :])\n",
    "    Y_true_post = scaler_load.inverse_transform(Y_Test_data_patch[i_reconst, :, :])\n",
    "    \n",
    "    Y_recons_pre = scaler_load.inverse_transform(test_data_same_shape[i_reconst, :, :])\n",
    "    Y_recons_post = scaler_load.inverse_transform(test_target_same_shape[i_reconst, :, :])\n",
    "\n",
    "#     Y_recons = scaler.inverse_transform(train_reconst_same_shape[i_reconst, :, :])\n",
    "#     Y_true = scaler.inverse_transform(np.transpose(data_patch[i_reconst, :, :]))\n",
    "\n",
    "    \n",
    "#     for i_plot in range(data.shape[1]):\n",
    "    for i_plot in range(7):\n",
    "#         plt.subplot(1, 7, i_plot+1)\n",
    "        \n",
    "        plt.plot(np.concatenate((Y_true_pre[:, i_plot], Y_true_post[:, i_plot]), axis=0), label='Ground Truth')\n",
    "        plt.plot(np.concatenate((Y_recons_pre[:, i_plot], Y_recons_post[:, i_plot]), axis=0), label='Reconstruction')\n",
    "\n",
    "        Cross_Correlation = cross_correlation(np.concatenate((Y_true_pre[:, i_plot], Y_true_post[:, i_plot]), axis=0),np.concatenate((Y_recons_pre[:, i_plot], Y_recons_post[:, i_plot]), axis=0))\n",
    "        plt.rcParams.update({'font.size': 20})\n",
    "        plt.title('Cross Correlation: ' + str(\"{:.3}\".format(Cross_Correlation)), fontsize=20)\n",
    "        plt.xlabel('Inout Length', fontsize=20)\n",
    "        plt.ylabel('Feature ' + str(i_plot+1), fontsize=20)\n",
    "\n",
    "        plt.legend()\n",
    "        plt.grid(True, axis='y')\n",
    "        plt.tight_layout()\n",
    "#         plt.savefig('Compression_Reproduction_img_S' + str(i_reconst) + '_Feature' + str(i_plot) + '.jpg')\n",
    "        plt.show()\n",
    "        plt.close()\n",
    "   \n",
    "    Y_recons = np.reshape(Y_recons_post, (1, 7 * seq_len_post))\n",
    "    Y_true = np.reshape(Y_true_post, (1, 7 * seq_len_post))\n",
    "   \n",
    "    \n",
    "    Y_true_all[i_reconst, :] = Y_true\n",
    "    Y_recons_all[i_reconst, :] = Y_recons\n",
    "\n",
    "print('###############################') \n",
    "print(mean_squared_error(Y_true_all, Y_recons_all))\n",
    "print(mean_absolute_error(Y_true_all, Y_recons_all))"
   ]
  },
  {
   "cell_type": "code",
   "execution_count": null,
   "metadata": {},
   "outputs": [],
   "source": [
    "model_tokenizer('▁▁▁▁▁▁▁▁▁', return_tensors=\"pt\")"
   ]
  },
  {
   "cell_type": "code",
   "execution_count": null,
   "metadata": {},
   "outputs": [],
   "source": [
    "model_tokenizer('ser', return_tensors=\"pt\")['input_ids']"
   ]
  },
  {
   "cell_type": "code",
   "execution_count": null,
   "metadata": {
    "scrolled": true
   },
   "outputs": [],
   "source": [
    "model_tokenizer.pad_token_id = model_tokenizer.eos_token_id\n",
    "\n",
    "test_length = 4\n",
    "plus_seg = 200\n",
    "model_output = []\n",
    "for i_test in range(test_length):#len(data_TS['test'])):\n",
    "\n",
    "    test_prompt = f\"\"\"Generate a Series {test_data_symbolic[i_test+plus_seg]} ### \"\"\"\n",
    "\n",
    "    print('###################################  Model Outputs  ####################################')\n",
    "#     model_input = model_tokenizer(test_tokenize_prompt(data_TS['test'][i_test]), return_tensors=\"pt\").to(\"cuda\")\n",
    "    model_input = model_tokenizer(test_prompt, return_tensors=\"pt\").to(\"cuda\")\n",
    "\n",
    "    temp_out = model_tokenizer.decode(\n",
    "        ft_model.generate(\n",
    "            **model_input, \n",
    "            max_new_tokens=int(MAX_LENGTH_post*2), \n",
    "            max_length=int((MAX_LENGTH_pre+MAX_LENGTH_post)*2),\n",
    "            repetition_penalty=1.9,\n",
    "            temperature=0.0,\n",
    "        )[0],\n",
    "        skip_special_tokens=True\n",
    "    )\n",
    "    print(temp_out)\n",
    "    model_output.append(temp_out)\n",
    "\n"
   ]
  },
  {
   "cell_type": "code",
   "execution_count": null,
   "metadata": {},
   "outputs": [],
   "source": []
  },
  {
   "cell_type": "code",
   "execution_count": null,
   "metadata": {},
   "outputs": [],
   "source": [
    "\n",
    "# model_output = model_output[1:]\n",
    "\n",
    "## TODO \n",
    "#  Tips1: 调小 max_new_tokens，然后使用 tokenizer 进行拆分，再追溯回去\n",
    "\n",
    "symbols_LLM_input = []\n",
    "symbols_LLM_output = []\n",
    "\n",
    "model_output_list1_processed = []\n",
    "model_output_list2_processed = []\n",
    "\n",
    "for i_out in range(test_length):\n",
    "    \n",
    "    model_output_list1 = model_output[i_out].split(' ### ')[0].split(' ')[3:-1]\n",
    "\n",
    "    test_blank_index = []\n",
    "    for i_list in range(len(model_output_list1)-1):\n",
    "        if model_output_list1[i_list] is '' and model_output_list1[i_list-1] is '' and model_output_list1[i_list+1] is '':\n",
    "            test_blank_index.append(i_list)\n",
    "    del_index1 = []\n",
    "    del_index1 = np.array(test_blank_index, dtype=int)\n",
    "    test_processed = []\n",
    "    test_processed = [model_output_list1[num] for num, i in enumerate(model_output_list1) if num not in del_index1]\n",
    "\n",
    "    if len(del_index1) != 0:\n",
    "        add_blank = []\n",
    "        for i_add in range(len(test_blank_index)):\n",
    "            add_blank += '▁'\n",
    "\n",
    "        add_blank = listToString_blank(add_blank)  \n",
    "        test_processed.insert(del_index1[0], add_blank)\n",
    "\n",
    "\n",
    "    test_remove_index = []\n",
    "    for i_list in range(len(test_processed)-1):\n",
    "        if test_processed[i_list] is '' and test_processed[i_list+1] is not '':\n",
    "            test_remove_index.append(i_list)\n",
    "            test_processed[i_list+1] = '▁' + test_processed[i_list+1]\n",
    "    del_index1 = []\n",
    "    del_index1 = np.array(test_remove_index, dtype=int)\n",
    "    test_processed2 = []\n",
    "    test_processed2 = [test_processed[num] for num, i in enumerate(test_processed) if num not in del_index1]\n",
    "\n",
    "\n",
    "\n",
    "    test_blank_index = []\n",
    "    for i_list in range(len(test_processed2)-1):\n",
    "        if test_processed2[i_list] is '':\n",
    "            test_blank_index.append(i_list)\n",
    "\n",
    "    del_index1 = []\n",
    "    del_index1 = np.array(test_blank_index, dtype=int)\n",
    "    model_output_list1_processed = [test_processed2[num] for num, i in enumerate(test_processed2) if num not in del_index1]\n",
    "\n",
    "#     for i_list in range(len(model_output_list1_processed)):\n",
    "#         if len(model_tokenizer(model_output_list1_processed[i_list], return_tensors=\"pt\")['input_ids'][0]) > 3:\n",
    "#             if '▁' in model_output_list1_processed[i_list]:\n",
    "#     #                 print(i_list)\n",
    "#                 model_output_list1_processed[i_list] = model_output_list1_processed[i_list][1:]\n",
    "\n",
    "    symbols_LLM_input.append(model_output_list1_processed)\n",
    "\n",
    "    \n",
    "#     print('###################################  Plan A  ####################################')   \n",
    "#     tokens_output_mistral = model_tokenizer(model_output[i_out].split('###')[1][1:], return_tensors=\"pt\")['input_ids'][0][1:-1]\n",
    "#     model_output_list2_processed = []\n",
    "#     for i_find in range(len(tokens_output_mistral)):\n",
    "#         key_mistral_vocab = find_keys_by_value(mistral_vocab, tokens_output_mistral[i_find])[0]\n",
    "# #         model_output_list2_processed.append(key_mistral_vocab)\n",
    "#         if key_mistral_vocab != '▁':\n",
    "#             model_output_list2_processed.append(key_mistral_vocab)\n",
    "\n",
    "#     symbols_LLM_output.append(model_output_list2_processed)\n",
    "    \n",
    "    \n",
    "    print('###################################  Plan B  ####################################')  \n",
    "    split_content = model_output[i_out].split(' ### ')\n",
    "    split_len = len(split_content)\n",
    "    model_output_list2 = ''\n",
    "    if split_len == 2:\n",
    "        model_output_list2 = model_output[i_out].split(' ### ')[1].split(' ')[2:-1]\n",
    "    elif split_len > 2:\n",
    "        for i_split_content in range(split_len-1):\n",
    "            model_output_list2 = model_output_list2 + split_content[i_split_content+1] + ' ### '\n",
    "\n",
    "\n",
    "    \n",
    "    test_blank_index = []\n",
    "    for i_list in range(len(model_output_list2)-1):\n",
    "        if model_output_list2[i_list] is '' and model_output_list2[i_list-1] is '' and model_output_list2[i_list+1] is '':\n",
    "            test_blank_index.append(i_list)\n",
    "    del_index2 = []\n",
    "    del_index2 = np.array(test_blank_index, dtype=int)\n",
    "    test_processed = []\n",
    "    test_processed = [model_output_list2[num] for num, i in enumerate(model_output_list2) if num not in del_index2]\n",
    "\n",
    "    if len(del_index2) != 0:\n",
    "        add_blank = []\n",
    "        for i_add in range(len(test_blank_index)):\n",
    "            add_blank += '▁'\n",
    "\n",
    "        add_blank = listToString_blank(add_blank)  \n",
    "        test_processed.insert(del_index2[0], add_blank)\n",
    "\n",
    "\n",
    "    test_remove_index = []\n",
    "    for i_list in range(len(test_processed)-1):\n",
    "        if test_processed[i_list] is '' and test_processed[i_list+1] is not '':\n",
    "            test_remove_index.append(i_list)\n",
    "            test_processed[i_list+1] = '▁' + test_processed[i_list+1]\n",
    "    del_index2 = []\n",
    "    del_index2 = np.array(test_remove_index, dtype=int)\n",
    "    test_processed2 = []\n",
    "    test_processed2 = [test_processed[num] for num, i in enumerate(test_processed) if num not in del_index2]\n",
    "\n",
    "\n",
    "\n",
    "    test_blank_index = []\n",
    "    for i_list in range(len(test_processed2)-1):\n",
    "        if test_processed2[i_list] is '':\n",
    "            test_blank_index.append(i_list)\n",
    "\n",
    "    del_index2 = []\n",
    "    del_index2 = np.array(test_blank_index, dtype=int)\n",
    "    model_output_list2_processed = [test_processed2[num] for num, i in enumerate(test_processed2) if num not in del_index2]\n",
    "\n",
    "    symbols_LLM_output.append(model_output_list2_processed)\n",
    "         \n",
    "            \n",
    "    model_output_list2_processed_copy = model_output_list2_processed.copy()\n",
    "\n",
    "    index_num_add = 0\n",
    "    for i_remove in range(len(model_output_list2_processed_copy)):\n",
    "        if model_output_list2_processed_copy[i_remove] not in qabba_load.parameters.alphabets:\n",
    "\n",
    "            tokens_i_remove = model_tokenizer(model_output_list2_processed_copy[i_remove], return_tensors=\"pt\")['input_ids'][0]\n",
    "            if len(tokens_i_remove) == 2:\n",
    "                continue\n",
    "\n",
    "#             print(model_output_list2_processed_copy[i_remove])\n",
    "\n",
    "            model_output_list2_processed.pop(i_remove + index_num_add)\n",
    "            index_num_add -= 1\n",
    "\n",
    "            for i_convert in range(len(tokens_i_remove[1:-1])):\n",
    "                key_mistral_vocab = find_keys_by_value(mistral_vocab, tokens_i_remove[i_convert+1])[0]\n",
    "#                 print(key_mistral_vocab)\n",
    "                model_output_list2_processed.insert(1  + i_remove + index_num_add, key_mistral_vocab)\n",
    "                index_num_add += 1\n",
    "\n",
    "    for i_list in range(len(model_output_list2_processed)):\n",
    "        if model_output_list2_processed[i_list] is '':\n",
    "#             print(i_list)\n",
    "            model_output_list2_processed.remove('')\n",
    "    \n",
    "    for i_list in range(len(model_output_list2_processed)):\n",
    "        if len(model_tokenizer(model_output_list2_processed[i_list], return_tensors=\"pt\")['input_ids'][0]) > 3:\n",
    "            if '▁' in model_output_list2_processed[i_list]:\n",
    "#                 print(i_list)\n",
    "                model_output_list2_processed[i_list] = model_output_list2_processed[i_list][1:]\n",
    "    \n",
    "    symbols_LLM_output.append(model_output_list2_processed)"
   ]
  },
  {
   "cell_type": "code",
   "execution_count": null,
   "metadata": {},
   "outputs": [],
   "source": [
    "symbols_LLM_input = symbols_LLM_input[2:]\n",
    "symbols_LLM_output = symbols_LLM_output[2:]\n"
   ]
  },
  {
   "cell_type": "code",
   "execution_count": null,
   "metadata": {},
   "outputs": [],
   "source": []
  },
  {
   "cell_type": "code",
   "execution_count": null,
   "metadata": {
    "scrolled": true
   },
   "outputs": [],
   "source": [
    "from sklearn.metrics import mean_squared_error, mean_absolute_error\n",
    "from scipy import signal\n",
    "import itertools\n",
    "from scipy.interpolate import interp1d\n",
    "\n",
    "test_length = 4\n",
    "# test_length = 10\n",
    "\n",
    "reconst_test_input = qabba_load.inverse_transform(symbols_LLM_input, params_test_data)  # convert into array\n",
    "reconst_same_shape_input = qabba_load.recast_shape(reconst_test_input, recap_shape=[test_length, seq_len_pre, 7], llm_split='Post') \n",
    "# for i_0 in range(reconst_same_shape_input.shape[0]):\n",
    "#     for i_2 in range(reconst_same_shape_input.shape[2]):\n",
    "#         reconst_same_shape_input[i_0, :, i_2] = signal.detrend(reconst_same_shape_output[i_0, :, i_2])\n",
    "       \n",
    "\n",
    "reconst_test_output = qabba_load.inverse_transform(symbols_LLM_output, params_test_target)  # convert into array\n",
    "# reconst_same_shape_output = qabba.recast_shape(reconst_test_output, recap_shape=[test_length, seq_len_post, 7], llm_split='Post')\n",
    "\n",
    "padded = zip(*itertools.zip_longest(*reconst_test_output, fillvalue=-1))\n",
    "padded = list(padded)\n",
    "padded = np.asarray(padded)\n",
    "reconst_same_shape_output = []\n",
    "for i_i in range(test_length):\n",
    "    Temp_ = padded[i_i][:24*7]\n",
    "    reconst_same_shape_output.append(Temp_)\n",
    "reconst_same_shape_output = np.asarray(reconst_same_shape_output).reshape([test_length, 24, 7])\n",
    "\n",
    "\n",
    "# reconst_same_shape_output = np.ones([test_length, 24, 7])\n",
    "# for i_convert_shape in range(len(reconst_test_output)):\n",
    "    \n",
    "#     BB = np.array(reconst_test_output[i_convert_shape])\n",
    "    \n",
    "#     x = np.linspace(0, len(BB)-1, num=len(BB))\n",
    "#     x_pred = np.linspace(0, len(BB)-1, num=24*7*8)\n",
    "\n",
    "#     f1 = interp1d(x, BB, kind='linear')\n",
    "#     f2 = interp1d(x, BB, kind='cubic')\n",
    "    \n",
    "#     y2 = f2(x_pred)\n",
    "#     reconst_same_shape_output[i_convert_shape] = np.reshape(y2[0::8], (seq_len_post,7))\n",
    "    \n",
    "# for i_0 in range(reconst_same_shape_output.shape[0]):\n",
    "#     for i_2 in range(reconst_same_shape_output.shape[2]):\n",
    "#         reconst_same_shape_output[i_0, :, i_2] = signal.detrend(reconst_same_shape_output[i_0, :, i_2])\n",
    "      \n",
    "    \n",
    "# reconst_same_shape = np.zeros(([test_length, 7, seq_len]), dtype=float)\n",
    "\n",
    "Y_pred_all = np.zeros(([test_length, 7 * seq_len_post]), dtype=float)\n",
    "Y_true_all = np.zeros(([test_length, 7 * seq_len_post]), dtype=float)\n",
    "MAE_result = np.zeros(test_length, dtype=float)\n",
    "MSE_result = np.zeros(test_length, dtype=float)\n",
    "\n",
    "\n",
    "for i_reconst in range(2):  # test_length\n",
    "\n",
    "\n",
    "#     Y_recons_pre = scaler.inverse_transform(X_Test_data_patch[i_reconst, :, :])\n",
    "#     Y_recons_post = scaler.inverse_transform(Y_Test_data_patch[i_reconst, :, :])\n",
    "    \n",
    "    Y_true = scaler_load.inverse_transform(Y_Test_data_patch[i_reconst+plus_seg, :, :])\n",
    "    Y_true_pre = scaler_load.inverse_transform(X_Test_data_patch[i_reconst+plus_seg, :, :])\n",
    "    \n",
    "    \n",
    "#     scaler_output = MinMaxScaler()\n",
    "    scaler_output = StandardScaler()  ##   DONE the Test\n",
    "    scaler_output.fit(reconst_same_shape_output[i_reconst, :, :])  ##  ?????????????????????????   是否需要多個維度叠加在一起？？？？？\n",
    "    \n",
    "    Y_pred = scaler_load.inverse_transform(scaler_output.transform(reconst_same_shape_output[i_reconst, :, :]))\n",
    "    Y_pred_pre = scaler_load.inverse_transform(reconst_same_shape_input[i_reconst, :, :])\n",
    "#     Y_pred_pre = Y_true_pre\n",
    "\n",
    "\n",
    "#     Y_pred = scaler_output.transform(reconst_same_shape_output[i_reconst, :, :])\n",
    "#     Y_pred_pre = reconst_same_shape_input[i_reconst, :, :]\n",
    "\n",
    "#     Y_true = test_data_patch[i_reconst+plus_seg+seq_len, :, :]\n",
    "#     Y_true_pre = test_data_patch[i_reconst+plus_seg, :, :]\n",
    "\n",
    "\n",
    "    for i_plot in range(7):\n",
    "#         plt.subplot(1, 7, i_plot+1)\n",
    "        if i_plot >= 3:\n",
    "            AA = []\n",
    "            AA = np.concatenate((Y_pred_pre[-2:, i_plot], Y_pred[:, i_plot]), axis=0)\n",
    "\n",
    "            mean_vibration = np.mean(np.abs(np.diff(AA)))*seq_len_post\n",
    "\n",
    "            AA_max = np.max(np.abs(np.diff(AA)))\n",
    "            Y_true_max = np.mean(np.abs(np.diff(Y_true[:, i_plot])))\n",
    "            if AA_max > Y_true_max:\n",
    "                diff_TS = np.diff(AA)\n",
    "                for i_TS in range(len(AA)-1):\n",
    "                    if np.abs(diff_TS[i_TS]) > Y_true_max*0.55:\n",
    "                        AA[i_TS+1:] = AA[i_TS+1:] - 0.55*diff_TS[i_TS]  #  (1.0-Y_true_max/AA_max)\n",
    "\n",
    "                diff_temp = Y_true_pre[1, i_plot] - Y_pred_pre[1, i_plot]\n",
    "                Y_pred[:, i_plot] = AA[2:] + diff_temp\n",
    "\n",
    "        if i_reconst == 0:\n",
    "            plt.plot(np.concatenate((Y_true_pre[:, i_plot], Y_true[:, i_plot]), axis=0), label='Ground Truth')\n",
    "    #         plt.plot(np.concatenate((Y_pred_pre[:, i_plot], signal.detrend(Y_pred[:, i_plot])+Y_pred_pre[-1, i_plot]-signal.detrend(Y_pred[:, i_plot])[1]), axis=0), label='Forecasting')\n",
    "    #         plt.plot(np.concatenate((Y_pred_pre[:, i_plot], Y_pred[:, i_plot]), axis=0), label='Forecasting')\n",
    "\n",
    "            plt.plot(np.concatenate((Y_pred_pre[:, i_plot] + diff_temp, Y_pred[:, i_plot]), axis=0), label='Forecasting')\n",
    "\n",
    "\n",
    "            Cross_Correlation = cross_correlation(Y_pred[:, i_plot], Y_true[:, i_plot])\n",
    "            plt.rcParams.update({'font.size': 20})\n",
    "            plt.title('Cross Correlation: ' + str(\"{:.3}\".format(Cross_Correlation)), fontsize=16)\n",
    "\n",
    "            n_bins = np.arange(0, seq_len_pre+seq_len_post, 8)\n",
    "            plt.xticks(n_bins, n_bins, rotation = 30, fontsize=12)\n",
    "            plt.xlabel('Input Length', fontsize=16)\n",
    "            plt.ylabel('Feature ' + str(i_plot+1), fontsize=16)\n",
    "\n",
    "            plt.legend()\n",
    "            plt.grid(c='r')\n",
    "            plt.savefig('LLM_Predictor_img_S' + str(i_reconst) + '_Feature' + str(i_plot) + '.jpg')\n",
    "            plt.show()\n",
    "            plt.close()\n",
    "    print('###############################')\n",
    "    \n",
    "    Y_pred = np.reshape(Y_pred, (1, 7 * seq_len_post))\n",
    "    Y_true = np.reshape(Y_true, (1, 7 * seq_len_post))\n",
    "   \n",
    "    \n",
    "    Y_pred_all[i_reconst, :] = Y_pred\n",
    "    Y_true_all[i_reconst, :] = Y_true\n",
    "\n",
    "    MAE_result[i_reconst] = np.mean(np.abs(Y_pred - Y_true))\n",
    "    MSE_result[i_reconst] = np.mean(np.power(Y_pred - Y_true, 2))\n",
    "    \n",
    "print('###############################')\n",
    "print(mean_squared_error(Y_true_all, Y_pred_all))\n",
    "print(mean_absolute_error(Y_true_all, Y_pred_all))\n",
    "# print(mean(MSE_result))\n",
    "# print(mean(MAE_result))\n",
    "\n"
   ]
  },
  {
   "cell_type": "code",
   "execution_count": null,
   "metadata": {},
   "outputs": [],
   "source": [
    "len(reconst_test_input[0])"
   ]
  },
  {
   "cell_type": "code",
   "execution_count": null,
   "metadata": {},
   "outputs": [],
   "source": [
    "len(symbols_LLM_input)"
   ]
  },
  {
   "cell_type": "code",
   "execution_count": null,
   "metadata": {},
   "outputs": [],
   "source": [
    "np.abs(diff_TS)"
   ]
  },
  {
   "cell_type": "code",
   "execution_count": null,
   "metadata": {},
   "outputs": [],
   "source": [
    "1.0-Y_true_max/AA_max"
   ]
  },
  {
   "cell_type": "code",
   "execution_count": null,
   "metadata": {},
   "outputs": [],
   "source": [
    "np.diff(Y_true[:, 6])"
   ]
  },
  {
   "cell_type": "code",
   "execution_count": null,
   "metadata": {},
   "outputs": [],
   "source": [
    "np.abs(np.diff(Y_pred_pre[:, 6]))"
   ]
  },
  {
   "cell_type": "code",
   "execution_count": null,
   "metadata": {},
   "outputs": [],
   "source": [
    "from sklearn.metrics import mean_squared_error, mean_absolute_error\n",
    "from scipy import signal\n",
    "# test_length = 50\n",
    "\n",
    "reconst_test_input = qabba.inverse_transform(symbols_LLM_input, test_params)  # convert into array\n",
    "reconst_same_shape_input = qabba.recast_shape(reconst_test_input) \n",
    "# for i_0 in range(reconst_same_shape_input.shape[0]):\n",
    "#     for i_2 in range(reconst_same_shape_input.shape[2]):\n",
    "#         reconst_same_shape_input[i_0, :, i_2] = signal.detrend(reconst_same_shape_output[i_0, :, i_2])\n",
    "       \n",
    "\n",
    "reconst_test_output = qabba.inverse_transform(symbols_LLM_output, test_params)  # convert into array\n",
    "reconst_same_shape_output = qabba.recast_shape(reconst_test_output)\n",
    "# for i_0 in range(reconst_same_shape_output.shape[0]):\n",
    "#     for i_2 in range(reconst_same_shape_output.shape[2]):\n",
    "#         reconst_same_shape_output[i_0, :, i_2] = signal.detrend(reconst_same_shape_output[i_0, :, i_2])\n",
    "        \n",
    "# reconst_same_shape_output = np.ones_like(reconst_same_shape_input)\n",
    "# for i_convert_shape in range(len(reconst_test_output)):\n",
    "    \n",
    "#     BB = np.array(reconst_test_output[i_convert_shape])\n",
    "    \n",
    "#     x = np.linspace(0, len(BB)-1, num=len(BB))\n",
    "#     x_pred = np.linspace(0, len(BB)-1, num=24*7*3)\n",
    "\n",
    "#     f1 = interp1d(x, BB, kind='linear')\n",
    "#     f2 = interp1d(x, BB, kind='cubic')\n",
    "    \n",
    "#     y2 = f2(x_pred)\n",
    "# #     reconst_same_shape_output[i_convert_shape] = np.reshape(y2[0::8], (seq_len,7))\n",
    "#     reconst_same_shape_output[i_convert_shape] = np.reshape(y2[:seq_len*7], (seq_len,7))\n",
    " \n",
    " \n",
    "    \n",
    "# reconst_same_shape = np.zeros(([test_length, 7, seq_len]), dtype=float)\n",
    "\n",
    "Y_pred_all = np.zeros(([test_length, 7 * seq_len]), dtype=float)\n",
    "Y_true_all = np.zeros(([test_length, 7 * seq_len]), dtype=float)\n",
    "MAE_result = np.zeros(test_length, dtype=float)\n",
    "MSE_result = np.zeros(test_length, dtype=float)\n",
    "\n",
    "\n",
    "for i_reconst in range(test_length):\n",
    "\n",
    "#     scaler_output = MinMaxScaler()\n",
    "    scaler_output = StandardScaler()  ##   DONE the Test\n",
    "    \n",
    "    scaler_output.fit(reconst_same_shape_output[i_reconst, :, :])  ##  ?????????????????????????   是否需要多個維度叠加在一起？？？？？\n",
    "    \n",
    "    Y_pred = scaler.inverse_transform(scaler_output.transform(reconst_same_shape_output[i_reconst, :, :]))\n",
    "    Y_pred_pre = scaler.inverse_transform(reconst_same_shape_input[i_reconst, :, :])\n",
    "\n",
    "    Y_true = scaler.inverse_transform(test_data_patch[i_reconst+plus_seg+seq_len, :, :])\n",
    "    Y_true_pre = scaler.inverse_transform(test_data_patch[i_reconst+plus_seg, :, :])\n",
    "    \n",
    "#     Y_pred = scaler_output.transform(reconst_same_shape_output[i_reconst, :, :])\n",
    "#     Y_pred_pre = reconst_same_shape_input[i_reconst, :, :]\n",
    "\n",
    "#     Y_true = test_data_patch[i_reconst+plus_seg+seq_len, :, :]\n",
    "#     Y_true_pre = test_data_patch[i_reconst+plus_seg, :, :]\n",
    "\n",
    "    if i_reconst == 0:\n",
    "        for i_plot in range(7):\n",
    "    #         plt.subplot(1, 7, i_plot+1)\n",
    "\n",
    "            AA = []\n",
    "            AA = np.concatenate((Y_pred_pre[-2:, i_plot], Y_pred[:, i_plot]), axis=0)\n",
    "\n",
    "            mean_vibration = np.mean(np.abs(np.diff(AA)))*seq_len\n",
    "            \n",
    "            AA_max = np.max(np.abs(np.diff(AA)))\n",
    "            Y_true_max = np.max(np.abs(np.diff(Y_true[:, i_plot])))\n",
    "            if AA_max > Y_true_max:\n",
    "                diff_TS = np.diff(AA)\n",
    "                for i_TS in range(len(AA)-1):\n",
    "                    if np.abs(diff_TS[i_TS]) > Y_true_max*0.7:\n",
    "                        AA[i_TS+1:] = AA[i_TS+1:] - 0.7*diff_TS[i_TS]  #  (1.0-Y_true_max/AA_max)\n",
    "\n",
    "                diff_temp = Y_true_pre[1, i_plot] - Y_pred_pre[1, i_plot]\n",
    "                Y_pred[:, i_plot] = AA[2:] + diff_temp\n",
    "\n",
    "            plt.plot(np.concatenate((Y_true_pre[:, i_plot], Y_true[:, i_plot]), axis=0), label='Ground Truth')\n",
    "    #         plt.plot(np.concatenate((Y_pred_pre[:, i_plot], signal.detrend(Y_pred[:, i_plot])+Y_pred_pre[-1, i_plot]-signal.detrend(Y_pred[:, i_plot])[1]), axis=0), label='Forecasting')\n",
    "    #         plt.plot(np.concatenate((Y_pred_pre[:, i_plot], Y_pred[:, i_plot]), axis=0), label='Forecasting')\n",
    "\n",
    "            plt.plot(np.concatenate((Y_pred_pre[:, i_plot] + diff_temp, Y_pred[:, i_plot]), axis=0), label='Forecasting')\n",
    "\n",
    "\n",
    "            Cross_Correlation = cross_correlation(Y_pred[:, i_plot], Y_true[:, i_plot])\n",
    "            plt.rcParams.update({'font.size': 20})\n",
    "            plt.title('Cross Correlation: ' + str(\"{:.3}\".format(Cross_Correlation)), fontsize=20)\n",
    "\n",
    "            n_bins = np.arange(0, seq_len*2, 8)\n",
    "            plt.xticks(n_bins, n_bins, rotation = 30, fontsize=10)\n",
    "            plt.xlabel('Inout Length', fontsize=20)\n",
    "            plt.ylabel('Feature ' + str(i_plot+1), fontsize=20)\n",
    "\n",
    "            plt.legend()\n",
    "            plt.grid(c='r')\n",
    "    #         plt.savefig('LLM_Predictor_img_S' + str(i_reconst) + '_Feature' + str(i_plot) + '.jpg')\n",
    "            plt.show()\n",
    "            plt.close()\n",
    "        print('###############################')\n",
    "    \n",
    "    Y_pred = np.reshape(Y_pred, (1, 7 * seq_len))\n",
    "    Y_true = np.reshape(Y_true, (1, 7 * seq_len))\n",
    "   \n",
    "    \n",
    "    Y_pred_all[i_reconst, :] = Y_pred\n",
    "    Y_true_all[i_reconst, :] = Y_true\n",
    "\n",
    "    MAE_result[i_reconst] = np.mean(np.abs(Y_pred - Y_true))\n",
    "    MSE_result[i_reconst] = np.mean(np.power(Y_pred - Y_true, 2))\n",
    "    \n",
    "print('###############################') \n",
    "print(mean_squared_error(Y_true_all, Y_pred_all))\n",
    "print(mean_absolute_error(Y_true_all, Y_pred_all))\n",
    "# print(mean(MSE_result))\n",
    "# print(mean(MAE_result))\n",
    "\n"
   ]
  },
  {
   "cell_type": "code",
   "execution_count": null,
   "metadata": {},
   "outputs": [],
   "source": [
    "24*7"
   ]
  },
  {
   "cell_type": "code",
   "execution_count": null,
   "metadata": {},
   "outputs": [],
   "source": [
    "reconst_same_shape_output.shape"
   ]
  },
  {
   "cell_type": "code",
   "execution_count": null,
   "metadata": {},
   "outputs": [],
   "source": [
    "from sklearn.metrics import mean_squared_error, mean_absolute_error\n",
    "from scipy import signal\n",
    "# test_length = 50\n",
    "\n",
    "reconst_test_input = qabba.inverse_transform(symbols_LLM_input, test_params)  # convert into array\n",
    "reconst_same_shape_input = qabba.recast_shape(reconst_test_input) \n",
    "# for i_0 in range(reconst_same_shape_input.shape[0]):\n",
    "#     for i_2 in range(reconst_same_shape_input.shape[2]):\n",
    "#         reconst_same_shape_input[i_0, :, i_2] = signal.detrend(reconst_same_shape_output[i_0, :, i_2])\n",
    "       \n",
    "\n",
    "reconst_test_output = qabba.inverse_transform(symbols_LLM_output, test_params)  # convert into array\n",
    "reconst_same_shape_output = qabba.recast_shape(reconst_test_output)\n",
    "# for i_0 in range(reconst_same_shape_output.shape[0]):\n",
    "#     for i_2 in range(reconst_same_shape_output.shape[2]):\n",
    "#         reconst_same_shape_output[i_0, :, i_2] = signal.detrend(reconst_same_shape_output[i_0, :, i_2])\n",
    "        \n",
    "\n",
    "    \n",
    "# reconst_same_shape = np.zeros(([test_length, 7, seq_len]), dtype=float)\n",
    "\n",
    "Y_pred_all = np.zeros(([test_length, 7 * seq_len]), dtype=float)\n",
    "Y_true_all = np.zeros(([test_length, 7 * seq_len]), dtype=float)\n",
    "MAE_result = np.zeros(test_length, dtype=float)\n",
    "MSE_result = np.zeros(test_length, dtype=float)\n",
    "\n",
    "\n",
    "for i_reconst in range(test_length):\n",
    "\n",
    "#     scaler_output = MinMaxScaler()\n",
    "    scaler_output = StandardScaler()  ##   DONE the Test\n",
    "    \n",
    "    scaler_output.fit(reconst_same_shape_output[i_reconst, :, :])  ##  ?????????????????????????   是否需要多個維度叠加在一起？？？？？\n",
    "    \n",
    "    Y_pred = scaler.inverse_transform(scaler_output.transform(reconst_same_shape_output[i_reconst, :, :]))\n",
    "    Y_pred_pre = scaler.inverse_transform(reconst_same_shape_input[i_reconst, :, :])\n",
    "\n",
    "    Y_true = scaler.inverse_transform(test_data_patch[i_reconst+plus_seg+seq_len, :, :])\n",
    "    Y_true_pre = scaler.inverse_transform(test_data_patch[i_reconst+plus_seg, :, :])\n",
    "    \n",
    "#     Y_pred = scaler_output.transform(reconst_same_shape_output[i_reconst, :, :])\n",
    "#     Y_pred_pre = reconst_same_shape_input[i_reconst, :, :]\n",
    "\n",
    "#     Y_true = test_data_patch[i_reconst+plus_seg+seq_len, :, :]\n",
    "#     Y_true_pre = test_data_patch[i_reconst+plus_seg, :, :]\n",
    "\n",
    "    if i_reconst == 0:\n",
    "        for i_plot in range(7):\n",
    "\n",
    "            plt.plot(np.concatenate((Y_true_pre[:, i_plot], Y_true[:, i_plot]), axis=0), label='Ground Truth')\n",
    "    #         plt.plot(np.concatenate((Y_pred_pre[:, i_plot], signal.detrend(Y_pred[:, i_plot])+Y_pred_pre[-1, i_plot]-signal.detrend(Y_pred[:, i_plot])[1]), axis=0), label='Forecasting')\n",
    "    #         plt.plot(np.concatenate((Y_pred_pre[:, i_plot], Y_pred[:, i_plot]), axis=0), label='Forecasting')\n",
    "\n",
    "            plt.plot(np.concatenate((Y_pred_pre[:, i_plot], Y_pred[:, i_plot]), axis=0), label='Forecasting')\n",
    "\n",
    "\n",
    "            Cross_Correlation = cross_correlation(Y_pred[:, i_plot], Y_true[:, i_plot])\n",
    "            plt.rcParams.update({'font.size': 20})\n",
    "            plt.title('Cross Correlation: ' + str(\"{:.3}\".format(Cross_Correlation)), fontsize=20)\n",
    "\n",
    "            n_bins = np.arange(0, seq_len*2, 8)\n",
    "            plt.xticks(n_bins, n_bins, rotation = 30, fontsize=10)\n",
    "            plt.xlabel('Inout Length', fontsize=20)\n",
    "            plt.ylabel('Feature ' + str(i_plot+1), fontsize=20)\n",
    "\n",
    "            plt.legend()\n",
    "            plt.grid(c='r')\n",
    "    #         plt.savefig('LLM_Predictor_img_S' + str(i_reconst) + '_Feature' + str(i_plot) + '.jpg')\n",
    "            plt.show()\n",
    "            plt.close()\n",
    "        print('###############################')\n",
    "    \n",
    "    Y_pred = np.reshape(Y_pred, (1, 7 * seq_len))\n",
    "    Y_true = np.reshape(Y_true, (1, 7 * seq_len))\n",
    "   \n",
    "    \n",
    "    Y_pred_all[i_reconst, :] = Y_pred\n",
    "    Y_true_all[i_reconst, :] = Y_true\n",
    "\n",
    "    MAE_result[i_reconst] = np.mean(np.abs(Y_pred - Y_true))\n",
    "    MSE_result[i_reconst] = np.mean(np.power(Y_pred - Y_true, 2))\n",
    "    \n",
    "print('###############################') \n",
    "print(mean_squared_error(Y_true_all, Y_pred_all))\n",
    "print(mean_absolute_error(Y_true_all, Y_pred_all))\n",
    "# print(mean(MSE_result))\n",
    "# print(mean(MAE_result))\n",
    "\n"
   ]
  },
  {
   "cell_type": "code",
   "execution_count": null,
   "metadata": {},
   "outputs": [],
   "source": [
    "reconst_test_output[0]"
   ]
  },
  {
   "cell_type": "code",
   "execution_count": null,
   "metadata": {},
   "outputs": [],
   "source": [
    "from scipy.interpolate import interp1d  \n",
    "\n",
    "\n",
    "BB = reconst_test_output[0]\n",
    "x = np.linspace(0, 24*7*2, num=10)"
   ]
  },
  {
   "cell_type": "code",
   "execution_count": null,
   "metadata": {},
   "outputs": [],
   "source": [
    "len()"
   ]
  },
  {
   "cell_type": "code",
   "execution_count": null,
   "metadata": {},
   "outputs": [],
   "source": [
    "np.asarray(reconst_test_output[0]).reshape([24, 7])"
   ]
  },
  {
   "cell_type": "code",
   "execution_count": null,
   "metadata": {},
   "outputs": [],
   "source": [
    "signal.detrend(Y_pred[:, 3])"
   ]
  },
  {
   "cell_type": "code",
   "execution_count": null,
   "metadata": {},
   "outputs": [],
   "source": []
  },
  {
   "cell_type": "code",
   "execution_count": null,
   "metadata": {},
   "outputs": [],
   "source": [
    "np.mean(np.abs(signal.detrend(Y_pred) - (Y_true-np.mean(Y_true))))"
   ]
  },
  {
   "cell_type": "code",
   "execution_count": null,
   "metadata": {},
   "outputs": [],
   "source": [
    "Y_pred.shape"
   ]
  },
  {
   "cell_type": "code",
   "execution_count": null,
   "metadata": {},
   "outputs": [],
   "source": [
    "reconst_same_shape_input.shape"
   ]
  },
  {
   "cell_type": "code",
   "execution_count": null,
   "metadata": {},
   "outputs": [],
   "source": [
    "from sklearn.metrics import mean_squared_error, mean_absolute_error\n",
    "from scipy import signal\n",
    "# test_length = 50\n",
    "\n",
    "\n",
    "reconst_test_output = qabba.inverse_transform(symbols_LLM_output, test_params)  # convert into array\n",
    "reconst_same_shape_output = qabba.recast_shape(reconst_test_output)\n",
    "# reconst_test_output_converted = []\n",
    "# for i_v in range(len(reconst_test_output)):\n",
    "#     reconst_test_output_converted.append(signal.detrend(np.array(reconst_test_output[i_v])))\n",
    "# reconst_same_shape_output = qabba.recast_shape(reconst_test_output_converted) \n",
    "\n",
    "\n",
    "reconst_test_input = qabba.inverse_transform(symbols_LLM_input, test_params)  # convert into array\n",
    "reconst_same_shape_input = qabba.recast_shape(reconst_test_input)\n",
    "\n",
    "\n",
    "# reconst_same_shape = np.zeros(([test_length, 7, seq_len]), dtype=float)\n",
    "\n",
    "Y_pred_all = np.zeros(([test_length, 7 * seq_len]), dtype=float)\n",
    "Y_true_all = np.zeros(([test_length, 7 * seq_len]), dtype=float)\n",
    "MAE_result = np.zeros(test_length, dtype=float)\n",
    "MSE_result = np.zeros(test_length, dtype=float)\n",
    "\n",
    "\n",
    "plus_seg = 0\n",
    "for i_reconst in range(test_length):\n",
    "\n",
    "    scaler_output = MinMaxScaler()\n",
    "    scaler_output.fit(reconst_same_shape_output[i_reconst, :, :])\n",
    "    \n",
    "    Y_pred = scaler.inverse_transform(scaler_output.transform(reconst_same_shape_output[i_reconst+plus_seg, :, :]))\n",
    "    Y_pred_pre = scaler.inverse_transform(reconst_same_shape_input[i_reconst+plus_seg, :, :])\n",
    "#     Y_true = test_data.values[i_reconst + seq_len:i_reconst + seq_len * 2, :]\n",
    "    Y_true = scaler.inverse_transform(test_data_patch[i_reconst+plus_seg+seq_len, :, :])\n",
    "    Y_true_pre = scaler.inverse_transform(test_data_patch[i_reconst+plus_seg, :, :])\n",
    "    \n",
    "\n",
    "    if i_reconst == 0:\n",
    "        for i_plot in range(7):\n",
    "    #         plt.subplot(1, 7, i_plot+1)\n",
    "            plt.plot(np.concatenate((Y_true_pre[:, i_plot], Y_true[:, i_plot]), axis=0), label='Ground Truth')\n",
    "            plt.plot(np.concatenate((Y_pred_pre[:, i_plot], Y_pred[:, i_plot]), axis=0), label='Forecasting')\n",
    "\n",
    "            Cross_Correlation = cross_correlation(Y_pred[:, i_plot], Y_true[:, i_plot])\n",
    "            plt.rcParams.update({'font.size': 20})\n",
    "    #         plt.title('Cross Correlation: ' + str(\"{:.3}\".format(Cross_Correlation)), fontsize=20)\n",
    "\n",
    "            n_bins = np.arange(0, 24*2, 2)\n",
    "            plt.xticks(n_bins, n_bins, rotation = 30, fontsize=10)\n",
    "            plt.xlabel('Inout Length', fontsize=20)\n",
    "            plt.ylabel('Feature ' + str(i_plot+1), fontsize=20)\n",
    "\n",
    "            plt.legend()\n",
    "            plt.grid(c='r')\n",
    "    #         plt.savefig('LLM_Predictor_img_S' + str(i_reconst) + '_Feature' + str(i_plot) + '.jpg')\n",
    "            plt.show()\n",
    "            plt.close()\n",
    "    print('###############################')\n",
    "    \n",
    "    Y_pred = np.reshape(Y_pred, (1, 7 * seq_len))\n",
    "    Y_true = np.reshape(Y_true, (1, 7 * seq_len))\n",
    "   \n",
    "    \n",
    "    Y_pred_all[i_reconst, :] = Y_pred\n",
    "    Y_true_all[i_reconst, :] = Y_true\n",
    "\n",
    "    MAE_result[i_reconst] = np.mean(np.abs(Y_pred - Y_true))\n",
    "    MSE_result[i_reconst] = np.mean(np.power(Y_pred - Y_true, 2))\n",
    "    \n",
    "print('###############################') \n",
    "print(mean_squared_error(Y_true_all, Y_pred_all))\n",
    "print(mean_absolute_error(Y_true_all, Y_pred_all))\n",
    "# print(mean(MSE_result))\n",
    "# print(mean(MAE_result))\n",
    "\n"
   ]
  },
  {
   "cell_type": "code",
   "execution_count": null,
   "metadata": {},
   "outputs": [],
   "source": []
  },
  {
   "cell_type": "code",
   "execution_count": null,
   "metadata": {},
   "outputs": [],
   "source": [
    "111"
   ]
  },
  {
   "cell_type": "code",
   "execution_count": null,
   "metadata": {},
   "outputs": [],
   "source": []
  },
  {
   "cell_type": "code",
   "execution_count": null,
   "metadata": {
    "scrolled": true
   },
   "outputs": [],
   "source": [
    "from sklearn.metrics import mean_squared_error, mean_absolute_error\n",
    "from scipy import signal\n",
    "# test_length = 50\n",
    "\n",
    "\n",
    "reconst_test_output = qabba.inverse_transform(symbols_LLM_output, test_params)  # convert into array\n",
    "reconst_same_shape_output = qabba.recast_shape(reconst_test_output)\n",
    "# for i_0 in range(reconst_same_shape_input.shape[0]):\n",
    "#     for i_2 in range(reconst_same_shape_input.shape[2]):\n",
    "#         reconst_same_shape_output[i_0, :, i_2] = signal.detrend(reconst_same_shape_output[i_0, :, i_2])\n",
    "        \n",
    "reconst_test_input = qabba.inverse_transform(symbols_LLM_input, test_params)  # convert into array\n",
    "reconst_same_shape_input = qabba.recast_shape(reconst_test_input) \n",
    "# for i_0 in range(reconst_same_shape_input.shape[0]):\n",
    "#     for i_2 in range(reconst_same_shape_input.shape[2]):\n",
    "#         reconst_same_shape_input[i_0, :, i_2] = signal.detrend(reconst_same_shape_output[i_0, :, i_2])\n",
    "       \n",
    "\n",
    "    \n",
    "# reconst_same_shape = np.zeros(([test_length, 7, seq_len]), dtype=float)\n",
    "\n",
    "Y_pred_all = np.zeros(([test_length, 7 * seq_len]), dtype=float)\n",
    "Y_true_all = np.zeros(([test_length, 7 * seq_len]), dtype=float)\n",
    "MAE_result = np.zeros(test_length, dtype=float)\n",
    "MSE_result = np.zeros(test_length, dtype=float)\n",
    "\n",
    "\n",
    "plus_seg = 0\n",
    "for i_reconst in range(test_length):\n",
    "\n",
    "    scaler_output = MinMaxScaler()\n",
    "    scaler_output.fit(reconst_same_shape_output[i_reconst, :, :])\n",
    "    \n",
    "    Y_pred = scaler.inverse_transform(scaler_output.transform(reconst_same_shape_output[i_reconst+plus_seg, :, :]))\n",
    "    Y_pred_pre = scaler.inverse_transform(reconst_same_shape_input[i_reconst+plus_seg, :, :])\n",
    "#     Y_true = test_data.values[i_reconst + seq_len:i_reconst + seq_len * 2, :]\n",
    "    Y_true = scaler.inverse_transform(test_data_patch[i_reconst+plus_seg+seq_len, :, :])\n",
    "    Y_true_pre = scaler.inverse_transform(test_data_patch[i_reconst+plus_seg, :, :])\n",
    "    \n",
    "\n",
    "    \n",
    "    for i_plot in range(7):\n",
    "#         plt.subplot(1, 7, i_plot+1)\n",
    "        plt.plot(np.concatenate((Y_true_pre[:, i_plot], signal.detrend(Y_true[:, i_plot])), axis=0), label='Ground Truth')\n",
    "        plt.plot(np.concatenate((Y_pred_pre[:, i_plot], Y_pred[:, i_plot]), axis=0), label='Forecasting')\n",
    "\n",
    "        Cross_Correlation = cross_correlation(Y_pred[:, i_plot], Y_true[:, i_plot])\n",
    "        plt.rcParams.update({'font.size': 20})\n",
    "#         plt.title('Cross Correlation: ' + str(\"{:.3}\".format(Cross_Correlation)), fontsize=20)\n",
    "\n",
    "        n_bins = np.arange(0, 24*2, 2)\n",
    "        plt.xticks(n_bins, n_bins, rotation = 30, fontsize=10)\n",
    "        plt.xlabel('Inout Length', fontsize=20)\n",
    "        plt.ylabel('Feature ' + str(i_plot+1), fontsize=20)\n",
    "\n",
    "        plt.legend()\n",
    "        plt.grid(c='r')\n",
    "#         plt.savefig('LLM_Predictor_img_S' + str(i_reconst) + '_Feature' + str(i_plot) + '.jpg')\n",
    "        plt.show()\n",
    "        plt.close()\n",
    "    print('###############################')\n",
    "    \n",
    "    Y_pred = np.reshape(Y_pred, (1, 7 * seq_len))\n",
    "    Y_true = np.reshape(Y_true, (1, 7 * seq_len))\n",
    "   \n",
    "    \n",
    "    Y_pred_all[i_reconst, :] = Y_pred\n",
    "    Y_true_all[i_reconst, :] = Y_true\n",
    "\n",
    "    MAE_result[i_reconst] = np.mean(np.abs(Y_pred - Y_true))\n",
    "    MSE_result[i_reconst] = np.mean(np.power(Y_pred - Y_true, 2))\n",
    "    \n",
    "print('###############################') \n",
    "print(mean_squared_error(Y_true_all, Y_pred_all))\n",
    "print(mean_absolute_error(Y_true_all, Y_pred_all))\n",
    "# print(mean(MSE_result))\n",
    "# print(mean(MAE_result))\n",
    "\n"
   ]
  },
  {
   "cell_type": "code",
   "execution_count": null,
   "metadata": {},
   "outputs": [],
   "source": [
    "model_output.split('### Series:')[0].split(' ')[10:-2]"
   ]
  },
  {
   "cell_type": "code",
   "execution_count": null,
   "metadata": {},
   "outputs": [],
   "source": [
    "model_output.split('### Series:')[0]"
   ]
  },
  {
   "cell_type": "code",
   "execution_count": null,
   "metadata": {},
   "outputs": [],
   "source": [
    "model_output.split('### Series:')[1]"
   ]
  },
  {
   "cell_type": "code",
   "execution_count": null,
   "metadata": {},
   "outputs": [],
   "source": []
  },
  {
   "cell_type": "code",
   "execution_count": null,
   "metadata": {},
   "outputs": [],
   "source": []
  },
  {
   "cell_type": "code",
   "execution_count": null,
   "metadata": {},
   "outputs": [],
   "source": [
    "len(model_output_INPUT)"
   ]
  },
  {
   "cell_type": "code",
   "execution_count": null,
   "metadata": {},
   "outputs": [],
   "source": [
    "model_output_INPUT_mistral_vocab[16]"
   ]
  },
  {
   "cell_type": "code",
   "execution_count": null,
   "metadata": {},
   "outputs": [],
   "source": [
    "key_mistral_vocab"
   ]
  },
  {
   "cell_type": "code",
   "execution_count": null,
   "metadata": {},
   "outputs": [],
   "source": []
  },
  {
   "cell_type": "code",
   "execution_count": null,
   "metadata": {
    "scrolled": true
   },
   "outputs": [],
   "source": [
    "def find_keys_by_value(dictionary, value):\n",
    "    return [key for key, val in dictionary.items() if val == value]\n",
    "\n",
    "\n",
    "symbols_LLM_input = []\n",
    "symbols_LLM_output = []\n",
    "mistral_vocab = model_tokenizer.get_vocab()\n",
    "\n",
    "test_length = 2\n",
    "\n",
    "for i_test in range(test_length):#len(data_TS['test'])):\n",
    "\n",
    "    test_prompt = f\"\"\"Generate a Series based on a given Inputs.\\n ### Inputs: {test_data_symbolic[i_test]}\\n ### Series:\"\"\"\n",
    "\n",
    "    print('###################################  Model Outputs  ####################################')\n",
    "#     model_input = model_tokenizer(test_tokenize_prompt(data_TS['test'][i_test]), return_tensors=\"pt\").to(\"cuda\")\n",
    "    model_input = model_tokenizer(test_prompt, return_tensors=\"pt\").to(\"cuda\")\n",
    "\n",
    "    model_output = model_tokenizer.decode(\n",
    "        ft_model.generate(\n",
    "            **model_input, \n",
    "            max_new_tokens=MAX_LENGTH*2, \n",
    "            max_length=MAX_LENGTH*2,\n",
    "            repetition_penalty=3.1\n",
    "        )[0],\n",
    "        skip_special_tokens=True\n",
    "    )\n",
    "    print(model_output)\n",
    "#     symbols_LLM.append(stringToList(model_output.split('### Series:\\n')[1][8:]))\n",
    "#     symbols_LLM.append(stringToList(model_output))\n",
    "\n",
    "\n",
    "    model_output_INPUT = model_tokenizer(\n",
    "        model_output.split('### Series:')[0], \n",
    "        return_tensors=\"pt\",\n",
    "        truncation=True,\n",
    "        padding=True,\n",
    "    ).to(\"cuda\")['input_ids'][0]\n",
    "    model_output_INPUT_mistral_vocab = []\n",
    "\n",
    "    model_output_OUTPUT = model_tokenizer(\n",
    "        model_output.split('### Series:')[1], \n",
    "        return_tensors=\"pt\",\n",
    "        truncation=True,\n",
    "        padding=True,\n",
    "    ).to(\"cuda\")['input_ids'][0]\n",
    "    model_output_OUTPUT_mistral_vocab = []\n",
    "\n",
    "    for i_find in range(len(model_output_INPUT)-1):\n",
    "        key_mistral_vocab =  find_keys_by_value(mistral_vocab, model_output_INPUT[i_find])[0]\n",
    "        if key_mistral_vocab != '▁':\n",
    "            model_output_INPUT_mistral_vocab.append(key_mistral_vocab)\n",
    "            print(key_mistral_vocab)\n",
    "    \n",
    "    for i_find in range(len(model_output_OUTPUT)-1):\n",
    "        key_mistral_vocab =  find_keys_by_value(mistral_vocab, model_output_OUTPUT[i_find])[0]\n",
    "        if key_mistral_vocab != '▁':\n",
    "            model_output_OUTPUT_mistral_vocab.append(key_mistral_vocab)\n",
    "            print(key_mistral_vocab)\n",
    "    \n",
    "    print('###################################  Removing Unknown Symbols  ####################################')\n",
    "#     for i_remove in range(len(model_output_list2_copy)):\n",
    "#         if model_output_list2_copy[i_remove] not in qabba.parameters.alphabets:\n",
    "#             print(model_output_list2_copy[i_remove])\n",
    "# #             model_output_list2.remove(model_output_list2_copy[i_remove])\n",
    "#             model_output_list2[i_remove] = model_output_list2[i_remove - 2]\n",
    "\n",
    "            \n",
    "#     for i_remove in range(len(model_output_list1_copy)):\n",
    "#         if model_output_list1_copy[i_remove] not in qabba.parameters.alphabets:\n",
    "#             print(model_output_list1_copy[i_remove])\n",
    "#             model_output_list1.remove(model_output_list1_copy[i_remove])\n",
    "            \n",
    "#     for i_remove in range(len(model_output_list2_copy)):\n",
    "#         if model_output_list2_copy[i_remove] not in qabba.parameters.alphabets:\n",
    "#             print(model_output_list2_copy[i_remove])\n",
    "#             model_output_list2.remove(model_output_list2_copy[i_remove])\n",
    "            \n",
    "    symbols_LLM_input.append(model_output_INPUT_mistral_vocab[16])\n",
    "    symbols_LLM_output.append(model_output_OUTPUT_mistral_vocab[1:])\n",
    "\n",
    "    print('###################################  Label Text Inputs and Outputs  ####################################')\n",
    "    print(test_data_symbolic[i_test])\n",
    "    print('###################################')\n",
    "    print(test_target_symbolic[i_test])\n"
   ]
  },
  {
   "cell_type": "code",
   "execution_count": null,
   "metadata": {},
   "outputs": [],
   "source": [
    "symbols_LLM_input[1]"
   ]
  },
  {
   "cell_type": "code",
   "execution_count": null,
   "metadata": {},
   "outputs": [],
   "source": [
    "symbols_LLM_output[1]"
   ]
  },
  {
   "cell_type": "code",
   "execution_count": null,
   "metadata": {},
   "outputs": [],
   "source": []
  },
  {
   "cell_type": "code",
   "execution_count": null,
   "metadata": {
    "scrolled": false
   },
   "outputs": [],
   "source": [
    "def find_keys_by_value(dictionary, value):\n",
    "    return [key for key, val in dictionary.items() if val == value]\n",
    "\n",
    "\n",
    "symbols_LLM_input = []\n",
    "symbols_LLM_output = []\n",
    "mistral_vocab = model_tokenizer.get_vocab()\n",
    "\n",
    "test_length = 2\n",
    "\n",
    "for i_test in range(test_length):#len(data_TS['test'])):\n",
    "\n",
    "    test_prompt = f\"\"\"Generate a Series based on a given Inputs.\\n ### Inputs: {test_data_symbolic[i_test]}\\n ### Series:\"\"\"\n",
    "\n",
    "    print('###################################  Model Outputs  ####################################')\n",
    "    model_input = model_tokenizer(test_prompt, return_tensors=\"pt\").to(\"cuda\")\n",
    "\n",
    "    model_output = ft_model.generate(\n",
    "            **model_input, \n",
    "            max_new_tokens=MAX_LENGTH*2, \n",
    "            max_length=MAX_LENGTH*2,\n",
    "            repetition_penalty=3.1\n",
    "        )[0]\n",
    "    \n",
    "    model_output_mistral_vocab = []\n",
    "    for i_find in range(len(model_output)):\n",
    "        key_mistral_vocab =  find_keys_by_value(mistral_vocab, model_output[i_find])[0]\n",
    "        if key_mistral_vocab != '▁':\n",
    "            model_output_mistral_vocab.append(key_mistral_vocab)\n",
    "\n",
    "\n",
    "    flag_input = 0\n",
    "    flag_output = 0\n",
    "    for i_find in range(len(model_output_mistral_vocab)-1):\n",
    "\n",
    "        if model_output_mistral_vocab[i_find] == '▁###' and model_output_mistral_vocab[i_find+1] == '▁Input':\n",
    "            print(i_find)\n",
    "            flag_input = i_find\n",
    "\n",
    "        if model_output_mistral_vocab[i_find] == '▁###' and model_output_mistral_vocab[i_find+1] == '▁Series':\n",
    "            print(i_find)\n",
    "            flag_output = i_find\n",
    "\n",
    "    \n",
    "    symbols_LLM_input.append(model_output_mistral_vocab[flag_input+4:flag_output-1])\n",
    "    symbols_LLM_output.append(model_output_mistral_vocab[flag_output+4:])\n"
   ]
  },
  {
   "cell_type": "code",
   "execution_count": null,
   "metadata": {},
   "outputs": [],
   "source": [
    "len(symbols_LLM_input[0])"
   ]
  },
  {
   "cell_type": "markdown",
   "metadata": {
    "id": "VCJnpZoayRgq"
   },
   "source": [
    "##### Sweet... it worked! The fine-tuned model now understands the meaning representation!\n",
    "\n",
    "I hope you enjoyed this tutorial on fine-tuning Mistral. If you have any questions, feel free to reach out to me on [X](https://x.com/harperscarroll) or on the [Discord channel](https://discord.gg/y9428NwTh3).\n",
    "\n",
    "🤙 🤙 🤙 🤙 🤙 🤙 🤙 🤙 🤙 🤙 🤙 🤙 🤙 🤙 🤙 🤙 🤙 🤙 🤙 🤙 🤙 🤙 🤙 🤙 🤙 🤙 🤙 🤙 🤙 🤙 🤙 🤙 🤙 🤙 🤙 🤙 🤙 🤙 🤙 🤙 🤙 🤙 🤙 🤙"
   ]
  },
  {
   "cell_type": "code",
   "execution_count": null,
   "metadata": {},
   "outputs": [],
   "source": [
    "from sklearn.metrics import mean_squared_error, mean_absolute_error\n",
    "\n",
    "# test_length = 50\n",
    "\n",
    "\n",
    "reconst_test_output = qabba.inverse_transform(symbols_LLM_output, test_params)  # convert into array\n",
    "reconst_same_shape_output = qabba.recast_shape(reconst_test_output) \n",
    "\n",
    "reconst_test_input = qabba.inverse_transform(symbols_LLM_input, test_params)  # convert into array\n",
    "reconst_same_shape_input = qabba.recast_shape(reconst_test_input) \n",
    "\n",
    "# reconst_same_shape = np.zeros(([test_length, 7, seq_len]), dtype=float)\n",
    "\n",
    "Y_pred_all = np.zeros(([test_length, 7 * seq_len]), dtype=float)\n",
    "Y_true_all = np.zeros(([test_length, 7 * seq_len]), dtype=float)\n",
    "MAE_result = np.zeros(test_length, dtype=float)\n",
    "MSE_result = np.zeros(test_length, dtype=float)\n",
    "\n",
    "\n",
    "plus_seg = 0\n",
    "for i_reconst in range(test_length):\n",
    "\n",
    "    scaler_output = MinMaxScaler()\n",
    "    scaler_output.fit(reconst_same_shape_output[i_reconst, :, :])\n",
    "    \n",
    "    Y_pred = scaler.inverse_transform(scaler_output.transform(reconst_same_shape_output[i_reconst+plus_seg, :, :]))\n",
    "    Y_pred_pre = scaler.inverse_transform(reconst_same_shape_input[i_reconst+plus_seg, :, :])\n",
    "#     Y_true = test_data.values[i_reconst + seq_len:i_reconst + seq_len * 2, :]\n",
    "    Y_true = scaler.inverse_transform(test_data_patch[i_reconst+plus_seg+seq_len, :, :])\n",
    "    Y_true_pre = scaler.inverse_transform(test_data_patch[i_reconst+plus_seg, :, :])\n",
    "    \n",
    "\n",
    "    \n",
    "    for i_plot in range(7):\n",
    "#         plt.subplot(1, 7, i_plot+1)\n",
    "        plt.plot(np.concatenate((Y_true_pre[:, i_plot], Y_true[:, i_plot]), axis=0), label='Ground Truth')\n",
    "        plt.plot(np.concatenate((Y_pred_pre[:, i_plot], Y_pred[:, i_plot]), axis=0), label='Forecasting')\n",
    "\n",
    "        Cross_Correlation = cross_correlation(Y_pred[:, i_plot], Y_true[:, i_plot])\n",
    "        plt.rcParams.update({'font.size': 20})\n",
    "#         plt.title('Cross Correlation: ' + str(\"{:.3}\".format(Cross_Correlation)), fontsize=20)\n",
    "        plt.xlabel('Inout Length', fontsize=20)\n",
    "        plt.ylabel('Feature ' + str(i_plot+1), fontsize=20)\n",
    "\n",
    "        plt.legend()\n",
    "        plt.grid(True, axis='y')\n",
    "#         plt.savefig('LLM_Predictor_img_S' + str(i_reconst) + '_Feature' + str(i_plot) + '.jpg')\n",
    "        plt.show()\n",
    "        plt.close()\n",
    "    print('###############################')\n",
    "    \n",
    "    Y_pred = np.reshape(Y_pred, (1, 7 * seq_len))\n",
    "    Y_true = np.reshape(Y_true, (1, 7 * seq_len))\n",
    "   \n",
    "    \n",
    "    Y_pred_all[i_reconst, :] = Y_pred\n",
    "    Y_true_all[i_reconst, :] = Y_true\n",
    "\n",
    "    MAE_result[i_reconst] = np.mean(np.abs(Y_pred - Y_true))\n",
    "    MSE_result[i_reconst] = np.mean(np.power(Y_pred - Y_true, 2))\n",
    "    \n",
    "print('###############################') \n",
    "print(mean_squared_error(Y_true_all, Y_pred_all))\n",
    "print(mean_absolute_error(Y_true_all, Y_pred_all))\n",
    "# print(mean(MSE_result))\n",
    "# print(mean(MAE_result))\n",
    "\n"
   ]
  },
  {
   "cell_type": "code",
   "execution_count": null,
   "metadata": {},
   "outputs": [],
   "source": [
    "MAE_result.shape"
   ]
  },
  {
   "cell_type": "code",
   "execution_count": null,
   "metadata": {},
   "outputs": [],
   "source": [
    "mean(MAE_result)"
   ]
  },
  {
   "cell_type": "code",
   "execution_count": null,
   "metadata": {},
   "outputs": [],
   "source": []
  },
  {
   "cell_type": "code",
   "execution_count": null,
   "metadata": {},
   "outputs": [],
   "source": []
  },
  {
   "cell_type": "code",
   "execution_count": null,
   "metadata": {},
   "outputs": [],
   "source": []
  }
 ],
 "metadata": {
  "accelerator": "GPU",
  "colab": {
   "gpuType": "T4",
   "provenance": []
  },
  "gpuClass": "standard",
  "kaggle": {
   "accelerator": "nvidiaTeslaT4",
   "dataSources": [
    {
     "datasetId": 4115056,
     "sourceId": 7132214,
     "sourceType": "datasetVersion"
    },
    {
     "modelInstanceId": 3900,
     "sourceId": 5112,
     "sourceType": "modelInstanceVersion"
    }
   ],
   "isGpuEnabled": true,
   "isInternetEnabled": true,
   "language": "python",
   "sourceType": "notebook"
  },
  "kernelspec": {
   "display_name": "PTBEnv",
   "language": "python",
   "name": "ptbenv"
  },
  "language_info": {
   "codemirror_mode": {
    "name": "ipython",
    "version": 3
   },
   "file_extension": ".py",
   "mimetype": "text/x-python",
   "name": "python",
   "nbconvert_exporter": "python",
   "pygments_lexer": "ipython3",
   "version": "3.11.3"
  }
 },
 "nbformat": 4,
 "nbformat_minor": 4
}
